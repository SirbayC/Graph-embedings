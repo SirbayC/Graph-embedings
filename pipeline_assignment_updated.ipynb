{
 "cells": [
  {
   "cell_type": "code",
   "execution_count": 2,
   "metadata": {
    "ExecuteTime": {
     "end_time": "2024-01-27T14:58:35.747600700Z",
     "start_time": "2024-01-27T14:58:33.997602400Z"
    }
   },
   "outputs": [
    {
     "name": "stderr",
     "output_type": "stream",
     "text": [
      "C:\\Users\\Andrei\\AppData\\Local\\Temp\\ipykernel_49628\\1442486215.py:4: DeprecationWarning: \n",
      "Pyarrow will become a required dependency of pandas in the next major release of pandas (pandas 3.0),\n",
      "(to allow more performant data types, such as the Arrow string type, and better interoperability with other libraries)\n",
      "but was not found to be installed on your system.\n",
      "If this would cause problems for you,\n",
      "please provide us feedback at https://github.com/pandas-dev/pandas/issues/54466\n",
      "        \n",
      "  import pandas as pd\n"
     ]
    }
   ],
   "source": [
    "from pathlib import Path\n",
    "\n",
    "import networkx as nx\n",
    "import pandas as pd\n",
    "import numpy as np\n",
    "\n",
    "import matplotlib.pyplot as plt\n",
    "from sklearn.manifold import TSNE\n",
    "from sklearn.model_selection import train_test_split\n",
    "from sklearn.svm import SVC"
   ]
  },
  {
   "attachments": {},
   "cell_type": "markdown",
   "metadata": {},
   "source": [
    "# Medium Articles Dataset\n",
    "\n",
    "We provide a dataset of medium articles which have to be tagged to corresponding topics (software-development, artificial intellignece, Ui/UX). Along with articles we have subscriptions lists. The articles may be related by common subscription lists. The goal is to exploit this naturally occuring network structure for classifying articles to topics. Hence, it is a 3-way node classification task"
   ]
  },
  {
   "cell_type": "code",
   "execution_count": 3,
   "metadata": {
    "ExecuteTime": {
     "end_time": "2024-01-27T14:58:35.763604200Z",
     "start_time": "2024-01-27T14:58:35.752601500Z"
    }
   },
   "outputs": [],
   "source": [
    "def read_data(dir_name: str, file_name: str):\n",
    "    \"\"\"Read the medium articles with lists\n",
    "\n",
    "    Args:\n",
    "        dir_name (str): Root directory of the medium title files and lists.\n",
    "\n",
    "    Returns:\n",
    "        final_data: merged dataframes with articles and lists\n",
    "    \"\"\"\n",
    "\n",
    "    final_data = pd.read_csv(dir_name+\"/\"+file_name+\".csv\")\n",
    "    return final_data"
   ]
  },
  {
   "cell_type": "code",
   "execution_count": 4,
   "metadata": {
    "ExecuteTime": {
     "end_time": "2024-01-27T14:58:36.191600Z",
     "start_time": "2024-01-27T14:58:35.765602Z"
    }
   },
   "outputs": [
    {
     "data": {
      "text/plain": "                                                 article  \\\n0      https://medium.com/@maniakacademy/code-demo-sh...   \n1      https://medium.com/towards-artificial-intellig...   \n2      https://medium.com/@sarafparam/transformers-fo...   \n3      https://medium.com/towards-data-science/review...   \n4      https://medium.com/towards-data-science/a-comp...   \n...                                                  ...   \n27713  https://medium.com/cometheartbeat/deep-learnin...   \n27714  https://medium.com/towardsdev/intro-to-object-...   \n27715  https://medium.com/towards-data-science/learn-...   \n27716  https://medium.com/berndruecker/moving-from-em...   \n27717  https://guillaume-weingertner.medium.com/5-ste...   \n\n                                                   title  \\\n0      Code/Demo Share: Palo Alto Firewall Network In...   \n1                  Clustering using Social Graph Network   \n2                           Transformers for Time-Series   \n3      Reviewing A/B Testing Course by Google on Udacity   \n4      A Comprehensive Hands-on Guide to Transfer Lea...   \n...                                                  ...   \n27713   Deep Learning Techniques you Should Know in 2022   \n27714  Intro to Object-Oriented Programming For Data ...   \n27715                   Learn Enough Docker to be Useful   \n27716    Moving from embedded to remote workflow engines   \n27717  5 Steps to Build Beautiful Bar Charts with Python   \n\n                                                subtitle  \\\n0      IP is broken as a unit of Control! IDENTITY as...   \n1      A Social Graph Network can be formed when ther...   \n2      Forecasting still remains to be dominated by S...   \n3      Read to find out how A/B tests are performed a...   \n4      Deep Learning on Steroids with the Power of Kn...   \n...                                                  ...   \n27713  Over the years, Deep Learning has really taken...   \n27714  Implement a simple Linear Regression with OOP ...   \n27715  Part 1: The Conceptual Landscape — Containers ...   \n27716  For a long time, we have advocated for an arch...   \n27717  How to use the full capabilities of Matplotlib...   \n\n                      author        date  \\\n0           Sebastian Maniak  2022-08-17   \n1      Naveed Ahmed Janvekar  2022-01-29   \n2                Param Saraf  2020-10-20   \n3          Suyash Maheshwari  2020-05-10   \n4       Dipanjan (DJ) Sarkar  2018-11-14   \n...                      ...         ...   \n27713       Nisha Arya Ahmed  2022-04-21   \n27714                 Bex T.  2021-04-12   \n27715              Jeff Hale  2019-01-09   \n27716           Bernd Rücker  2022-02-08   \n27717  Guillaume Weingertner  2023-01-23   \n\n                                                    list  \n0      https://medium.com/@zemmali1990/list/aws-49f68...  \n1      https://medium.com/@TomaszCieplak/list/graph-d...  \n2      https://medium.com/@sergiobonato/list/time-ser...  \n3      https://medium.com/@online.rajib/list/ml-c2cac...  \n4      https://medium.com/@farhanhanavi07/list/deep-l...  \n...                                                  ...  \n27713  https://medium.com/@vigguvenki/list/deep-learn...  \n27714  https://medium.com/@or.matalon2/list/oop-4aad5...  \n27715  https://medium.com/@vaibhavb2473/list/machine-...  \n27716  https://medium.com/@giamma80/list/java-3c31810...  \n27717  https://luistrigueiros.medium.com/list/python-...  \n\n[27718 rows x 6 columns]",
      "text/html": "<div>\n<style scoped>\n    .dataframe tbody tr th:only-of-type {\n        vertical-align: middle;\n    }\n\n    .dataframe tbody tr th {\n        vertical-align: top;\n    }\n\n    .dataframe thead th {\n        text-align: right;\n    }\n</style>\n<table border=\"1\" class=\"dataframe\">\n  <thead>\n    <tr style=\"text-align: right;\">\n      <th></th>\n      <th>article</th>\n      <th>title</th>\n      <th>subtitle</th>\n      <th>author</th>\n      <th>date</th>\n      <th>list</th>\n    </tr>\n  </thead>\n  <tbody>\n    <tr>\n      <th>0</th>\n      <td>https://medium.com/@maniakacademy/code-demo-sh...</td>\n      <td>Code/Demo Share: Palo Alto Firewall Network In...</td>\n      <td>IP is broken as a unit of Control! IDENTITY as...</td>\n      <td>Sebastian Maniak</td>\n      <td>2022-08-17</td>\n      <td>https://medium.com/@zemmali1990/list/aws-49f68...</td>\n    </tr>\n    <tr>\n      <th>1</th>\n      <td>https://medium.com/towards-artificial-intellig...</td>\n      <td>Clustering using Social Graph Network</td>\n      <td>A Social Graph Network can be formed when ther...</td>\n      <td>Naveed Ahmed Janvekar</td>\n      <td>2022-01-29</td>\n      <td>https://medium.com/@TomaszCieplak/list/graph-d...</td>\n    </tr>\n    <tr>\n      <th>2</th>\n      <td>https://medium.com/@sarafparam/transformers-fo...</td>\n      <td>Transformers for Time-Series</td>\n      <td>Forecasting still remains to be dominated by S...</td>\n      <td>Param Saraf</td>\n      <td>2020-10-20</td>\n      <td>https://medium.com/@sergiobonato/list/time-ser...</td>\n    </tr>\n    <tr>\n      <th>3</th>\n      <td>https://medium.com/towards-data-science/review...</td>\n      <td>Reviewing A/B Testing Course by Google on Udacity</td>\n      <td>Read to find out how A/B tests are performed a...</td>\n      <td>Suyash Maheshwari</td>\n      <td>2020-05-10</td>\n      <td>https://medium.com/@online.rajib/list/ml-c2cac...</td>\n    </tr>\n    <tr>\n      <th>4</th>\n      <td>https://medium.com/towards-data-science/a-comp...</td>\n      <td>A Comprehensive Hands-on Guide to Transfer Lea...</td>\n      <td>Deep Learning on Steroids with the Power of Kn...</td>\n      <td>Dipanjan (DJ) Sarkar</td>\n      <td>2018-11-14</td>\n      <td>https://medium.com/@farhanhanavi07/list/deep-l...</td>\n    </tr>\n    <tr>\n      <th>...</th>\n      <td>...</td>\n      <td>...</td>\n      <td>...</td>\n      <td>...</td>\n      <td>...</td>\n      <td>...</td>\n    </tr>\n    <tr>\n      <th>27713</th>\n      <td>https://medium.com/cometheartbeat/deep-learnin...</td>\n      <td>Deep Learning Techniques you Should Know in 2022</td>\n      <td>Over the years, Deep Learning has really taken...</td>\n      <td>Nisha Arya Ahmed</td>\n      <td>2022-04-21</td>\n      <td>https://medium.com/@vigguvenki/list/deep-learn...</td>\n    </tr>\n    <tr>\n      <th>27714</th>\n      <td>https://medium.com/towardsdev/intro-to-object-...</td>\n      <td>Intro to Object-Oriented Programming For Data ...</td>\n      <td>Implement a simple Linear Regression with OOP ...</td>\n      <td>Bex T.</td>\n      <td>2021-04-12</td>\n      <td>https://medium.com/@or.matalon2/list/oop-4aad5...</td>\n    </tr>\n    <tr>\n      <th>27715</th>\n      <td>https://medium.com/towards-data-science/learn-...</td>\n      <td>Learn Enough Docker to be Useful</td>\n      <td>Part 1: The Conceptual Landscape — Containers ...</td>\n      <td>Jeff Hale</td>\n      <td>2019-01-09</td>\n      <td>https://medium.com/@vaibhavb2473/list/machine-...</td>\n    </tr>\n    <tr>\n      <th>27716</th>\n      <td>https://medium.com/berndruecker/moving-from-em...</td>\n      <td>Moving from embedded to remote workflow engines</td>\n      <td>For a long time, we have advocated for an arch...</td>\n      <td>Bernd Rücker</td>\n      <td>2022-02-08</td>\n      <td>https://medium.com/@giamma80/list/java-3c31810...</td>\n    </tr>\n    <tr>\n      <th>27717</th>\n      <td>https://guillaume-weingertner.medium.com/5-ste...</td>\n      <td>5 Steps to Build Beautiful Bar Charts with Python</td>\n      <td>How to use the full capabilities of Matplotlib...</td>\n      <td>Guillaume Weingertner</td>\n      <td>2023-01-23</td>\n      <td>https://luistrigueiros.medium.com/list/python-...</td>\n    </tr>\n  </tbody>\n</table>\n<p>27718 rows × 6 columns</p>\n</div>"
     },
     "execution_count": 4,
     "metadata": {},
     "output_type": "execute_result"
    }
   ],
   "source": [
    "final_data = pd.read_csv(\"data/pipeline_assignment_data/full_data_without_labels.csv\")\n",
    "final_data"
   ]
  },
  {
   "cell_type": "code",
   "execution_count": 5,
   "metadata": {
    "ExecuteTime": {
     "end_time": "2024-01-27T14:58:36.476600300Z",
     "start_time": "2024-01-27T14:58:36.195601300Z"
    }
   },
   "outputs": [],
   "source": [
    "train = read_data(\"data/pipeline_assignment_data\",\"train\")"
   ]
  },
  {
   "cell_type": "code",
   "execution_count": 6,
   "metadata": {
    "ExecuteTime": {
     "end_time": "2024-01-27T14:58:36.554600500Z",
     "start_time": "2024-01-27T14:58:36.478602Z"
    }
   },
   "outputs": [
    {
     "data": {
      "text/plain": "      index                                            article  \\\n0      2291  https://medium.com/towards-data-science/how-to...   \n1      7292  https://medium.com/towards-data-science/surviv...   \n2      6768  https://medium.com/experience-stack/embrace-co...   \n3     15003  https://medium.com/towards-data-science/every-...   \n4     19782  https://medium.com/towards-data-science/macroe...   \n...     ...                                                ...   \n3945  14424  https://medium.com/towards-data-science/normal...   \n3946  18949  https://medium.com/@petruknisme/getting-starte...   \n3947   9305  https://medium.com/towards-data-science/how-to...   \n3948  24337  https://medium.com/towards-data-science/how-to...   \n3949   7662  https://medium.com/towards-data-science/a-prac...   \n\n                                                  title  \\\n0     How to Use the IBM Watson Tone Analyzer to Per...   \n1     Survival Analysis: Intuition & Implementation ...   \n2                           Embrace Complexity (Part 1)   \n3     Every Complex DataFrame Manipulation, Explaine...   \n4     Macroeconomic & Financial Factors and Ordinary...   \n...                                                 ...   \n3945  Normalization vs Standardization — Quantitativ...   \n3946   Getting Started with Covenant C2 for Red Teaming   \n3947  How to Create a Vector-Based Movie Recommendat...   \n3948                     How to Use Pandas for Big Data   \n3949  A Practical Guide to Build an Enterprise Knowl...   \n\n                                               subtitle  \\\n0     How to use the IBM Watson Artificial Intellige...   \n1     There is a statistical technique which can ans...   \n2     Why all organisations should build internal ne...   \n3     Melts, pivots, joins, explodes, & more — Panda...   \n4     Econometrics model using Arbitrage Pricing The...   \n...                                                 ...   \n3945  Stop using StandardScaler from Sklearn as a de...   \n3946  Command and Control is part of Red Teaming tac...   \n3947  Building a movie recommendation system using t...   \n3948  Run distributed workload with Pandas on Spark ...   \n3949  How to solve the practical problems when build...   \n\n                       author        date  \\\n0             Graham Harrison  2022-01-02   \n1               Anurag Pandey  2019-01-06   \n2                  Tony Seale  2022-02-04   \n3                    Andre Ye  2020-07-22   \n4                Sarit Maitra  2020-06-27   \n...                       ...         ...   \n3945              Shay Geller  2019-04-04   \n3946                      Aan  2021-11-21   \n3947  Michelangiolo Mazzeschi  2021-12-10   \n3948                Edwin Tan  2022-01-25   \n3949                 Xu LIANG  2019-10-23   \n\n                                                   list  \\\n0     https://medium.com/@4ndres.gaviria/list/nlp-to...   \n1     https://medium.com/@jz5246/list/analytics-559c...   \n2     https://medium.com/@yasha.brener/list/data-man...   \n3     https://medium.com/@4ndres.gaviria/list/dataop...   \n4     https://medium.com/@halo9pan/list/quantitative...   \n...                                                 ...   \n3945  https://medium.com/@farhanhanavi07/list/applie...   \n3946  https://medium.com/@jimmy.winghang/list/mitre-...   \n3947  https://medium.com/@subhasis.jethy/list/recomm...   \n3948  https://medium.com/@jethro_torczon/list/big-da...   \n3949  https://medium.com/@adambouras1/list/semantic-...   \n\n                       labels  \n0     artificial-intelligence  \n1     artificial-intelligence  \n2        software-development  \n3     artificial-intelligence  \n4        software-development  \n...                       ...  \n3945  artificial-intelligence  \n3946     software-development  \n3947  artificial-intelligence  \n3948  artificial-intelligence  \n3949  artificial-intelligence  \n\n[3950 rows x 8 columns]",
      "text/html": "<div>\n<style scoped>\n    .dataframe tbody tr th:only-of-type {\n        vertical-align: middle;\n    }\n\n    .dataframe tbody tr th {\n        vertical-align: top;\n    }\n\n    .dataframe thead th {\n        text-align: right;\n    }\n</style>\n<table border=\"1\" class=\"dataframe\">\n  <thead>\n    <tr style=\"text-align: right;\">\n      <th></th>\n      <th>index</th>\n      <th>article</th>\n      <th>title</th>\n      <th>subtitle</th>\n      <th>author</th>\n      <th>date</th>\n      <th>list</th>\n      <th>labels</th>\n    </tr>\n  </thead>\n  <tbody>\n    <tr>\n      <th>0</th>\n      <td>2291</td>\n      <td>https://medium.com/towards-data-science/how-to...</td>\n      <td>How to Use the IBM Watson Tone Analyzer to Per...</td>\n      <td>How to use the IBM Watson Artificial Intellige...</td>\n      <td>Graham Harrison</td>\n      <td>2022-01-02</td>\n      <td>https://medium.com/@4ndres.gaviria/list/nlp-to...</td>\n      <td>artificial-intelligence</td>\n    </tr>\n    <tr>\n      <th>1</th>\n      <td>7292</td>\n      <td>https://medium.com/towards-data-science/surviv...</td>\n      <td>Survival Analysis: Intuition &amp; Implementation ...</td>\n      <td>There is a statistical technique which can ans...</td>\n      <td>Anurag Pandey</td>\n      <td>2019-01-06</td>\n      <td>https://medium.com/@jz5246/list/analytics-559c...</td>\n      <td>artificial-intelligence</td>\n    </tr>\n    <tr>\n      <th>2</th>\n      <td>6768</td>\n      <td>https://medium.com/experience-stack/embrace-co...</td>\n      <td>Embrace Complexity (Part 1)</td>\n      <td>Why all organisations should build internal ne...</td>\n      <td>Tony Seale</td>\n      <td>2022-02-04</td>\n      <td>https://medium.com/@yasha.brener/list/data-man...</td>\n      <td>software-development</td>\n    </tr>\n    <tr>\n      <th>3</th>\n      <td>15003</td>\n      <td>https://medium.com/towards-data-science/every-...</td>\n      <td>Every Complex DataFrame Manipulation, Explaine...</td>\n      <td>Melts, pivots, joins, explodes, &amp; more — Panda...</td>\n      <td>Andre Ye</td>\n      <td>2020-07-22</td>\n      <td>https://medium.com/@4ndres.gaviria/list/dataop...</td>\n      <td>artificial-intelligence</td>\n    </tr>\n    <tr>\n      <th>4</th>\n      <td>19782</td>\n      <td>https://medium.com/towards-data-science/macroe...</td>\n      <td>Macroeconomic &amp; Financial Factors and Ordinary...</td>\n      <td>Econometrics model using Arbitrage Pricing The...</td>\n      <td>Sarit Maitra</td>\n      <td>2020-06-27</td>\n      <td>https://medium.com/@halo9pan/list/quantitative...</td>\n      <td>software-development</td>\n    </tr>\n    <tr>\n      <th>...</th>\n      <td>...</td>\n      <td>...</td>\n      <td>...</td>\n      <td>...</td>\n      <td>...</td>\n      <td>...</td>\n      <td>...</td>\n      <td>...</td>\n    </tr>\n    <tr>\n      <th>3945</th>\n      <td>14424</td>\n      <td>https://medium.com/towards-data-science/normal...</td>\n      <td>Normalization vs Standardization — Quantitativ...</td>\n      <td>Stop using StandardScaler from Sklearn as a de...</td>\n      <td>Shay Geller</td>\n      <td>2019-04-04</td>\n      <td>https://medium.com/@farhanhanavi07/list/applie...</td>\n      <td>artificial-intelligence</td>\n    </tr>\n    <tr>\n      <th>3946</th>\n      <td>18949</td>\n      <td>https://medium.com/@petruknisme/getting-starte...</td>\n      <td>Getting Started with Covenant C2 for Red Teaming</td>\n      <td>Command and Control is part of Red Teaming tac...</td>\n      <td>Aan</td>\n      <td>2021-11-21</td>\n      <td>https://medium.com/@jimmy.winghang/list/mitre-...</td>\n      <td>software-development</td>\n    </tr>\n    <tr>\n      <th>3947</th>\n      <td>9305</td>\n      <td>https://medium.com/towards-data-science/how-to...</td>\n      <td>How to Create a Vector-Based Movie Recommendat...</td>\n      <td>Building a movie recommendation system using t...</td>\n      <td>Michelangiolo Mazzeschi</td>\n      <td>2021-12-10</td>\n      <td>https://medium.com/@subhasis.jethy/list/recomm...</td>\n      <td>artificial-intelligence</td>\n    </tr>\n    <tr>\n      <th>3948</th>\n      <td>24337</td>\n      <td>https://medium.com/towards-data-science/how-to...</td>\n      <td>How to Use Pandas for Big Data</td>\n      <td>Run distributed workload with Pandas on Spark ...</td>\n      <td>Edwin Tan</td>\n      <td>2022-01-25</td>\n      <td>https://medium.com/@jethro_torczon/list/big-da...</td>\n      <td>artificial-intelligence</td>\n    </tr>\n    <tr>\n      <th>3949</th>\n      <td>7662</td>\n      <td>https://medium.com/towards-data-science/a-prac...</td>\n      <td>A Practical Guide to Build an Enterprise Knowl...</td>\n      <td>How to solve the practical problems when build...</td>\n      <td>Xu LIANG</td>\n      <td>2019-10-23</td>\n      <td>https://medium.com/@adambouras1/list/semantic-...</td>\n      <td>artificial-intelligence</td>\n    </tr>\n  </tbody>\n</table>\n<p>3950 rows × 8 columns</p>\n</div>"
     },
     "execution_count": 6,
     "metadata": {},
     "output_type": "execute_result"
    }
   ],
   "source": [
    "test = read_data(\"data/pipeline_assignment_data\",\"test\")\n",
    "test"
   ]
  },
  {
   "cell_type": "code",
   "execution_count": 7,
   "metadata": {
    "ExecuteTime": {
     "end_time": "2024-01-27T14:58:36.603602400Z",
     "start_time": "2024-01-27T14:58:36.555601600Z"
    }
   },
   "outputs": [
    {
     "data": {
      "text/plain": "labels\nsoftware-development       11586\nartificial-intelligence    10646\nux                           150\nName: count, dtype: int64"
     },
     "execution_count": 7,
     "metadata": {},
     "output_type": "execute_result"
    }
   ],
   "source": [
    "train[\"labels\"].value_counts()"
   ]
  },
  {
   "cell_type": "code",
   "execution_count": 8,
   "metadata": {
    "ExecuteTime": {
     "end_time": "2024-01-27T14:58:36.648601100Z",
     "start_time": "2024-01-27T14:58:36.570601200Z"
    }
   },
   "outputs": [
    {
     "data": {
      "text/plain": "labels\nsoftware-development       2022\nartificial-intelligence    1899\nux                           29\nName: count, dtype: int64"
     },
     "execution_count": 8,
     "metadata": {},
     "output_type": "execute_result"
    }
   ],
   "source": [
    "test[\"labels\"].value_counts()"
   ]
  },
  {
   "cell_type": "code",
   "execution_count": 9,
   "metadata": {
    "ExecuteTime": {
     "end_time": "2024-01-27T14:58:36.710601400Z",
     "start_time": "2024-01-27T14:58:36.585600600Z"
    }
   },
   "outputs": [
    {
     "data": {
      "text/plain": "0        With Kazam and ffmpeg on GNU/Linux systems — I...\n1        A tutorial on how to deploy SpaCy with AWS. — ...\n2        Are you a senior analyst growing towards a man...\n3        My Dart Google Summer of Code 2021 experience....\n4        Understand how to discover multicollinearity i...\n                               ...                        \n22377    How to design your own graph using TigerGraph ...\n22378    Automate the editing of explainer videos to cr...\n22379    Faster Python Code With Numba — The Speed Issu...\n22380    Julia is used for a lot of deeply technical ap...\n22381    For years now, most of us have heard the word ...\nName: subtitle, Length: 22382, dtype: object"
     },
     "execution_count": 9,
     "metadata": {},
     "output_type": "execute_result"
    }
   ],
   "source": [
    "train.subtitle"
   ]
  },
  {
   "cell_type": "markdown",
   "source": [
    "Note that the separated \"train\" and \"test\" data also contain an index column. The value in that index corresponds to the index of the row that article appears in the full data.\n",
    "\n",
    "Note that some of the articles are repeated (when considering articles uniquely identified by their urls). Thus it might not be necessarily wise to use the index of an article itself as a unique identifier."
   ],
   "metadata": {
    "collapsed": false
   }
  },
  {
   "cell_type": "code",
   "execution_count": 10,
   "outputs": [
    {
     "name": "stdout",
     "output_type": "stream",
     "text": [
      "27718\n",
      "26660\n"
     ]
    }
   ],
   "source": [
    "article_links = final_data[\"article\"]\n",
    "print(len(article_links))\n",
    "print(len(set(article_links)))"
   ],
   "metadata": {
    "collapsed": false,
    "ExecuteTime": {
     "end_time": "2024-01-27T14:58:36.714600600Z",
     "start_time": "2024-01-27T14:58:36.602601300Z"
    }
   }
  },
  {
   "cell_type": "markdown",
   "source": [
    "## Label conversion"
   ],
   "metadata": {
    "collapsed": false
   }
  },
  {
   "cell_type": "code",
   "execution_count": 49,
   "outputs": [
    {
     "name": "stdout",
     "output_type": "stream",
     "text": [
      "0           software-development\n",
      "1        artificial-intelligence\n",
      "2        artificial-intelligence\n",
      "3           software-development\n",
      "4           software-development\n",
      "                  ...           \n",
      "22377    artificial-intelligence\n",
      "22378       software-development\n",
      "22379    artificial-intelligence\n",
      "22380       software-development\n",
      "22381       software-development\n",
      "Name: labels, Length: 22382, dtype: object\n"
     ]
    }
   ],
   "source": [
    "print(train[\"labels\"])"
   ],
   "metadata": {
    "collapsed": false,
    "ExecuteTime": {
     "end_time": "2024-01-27T15:58:51.279368200Z",
     "start_time": "2024-01-27T15:58:51.255368500Z"
    }
   }
  },
  {
   "cell_type": "code",
   "execution_count": 11,
   "metadata": {
    "ExecuteTime": {
     "end_time": "2024-01-27T14:58:36.743602600Z",
     "start_time": "2024-01-27T14:58:36.621601700Z"
    }
   },
   "outputs": [],
   "source": [
    "from sklearn.feature_extraction.text import CountVectorizer\n",
    "from sklearn.feature_extraction.text import TfidfVectorizer\n",
    "from sklearn.preprocessing import LabelEncoder\n",
    "\"\"\"Generate encoding for labels using label encoder\"\"\"\n",
    "multilabel_binarizer = LabelEncoder()\n",
    "multilabel_binarizer.fit(train[\"labels\"]) \n",
    "\n",
    "Y = multilabel_binarizer.transform(train[\"labels\"]) \n",
    "texts = [x[0]+\" \" + x[1] for x in zip(train.title,train.subtitle)]"
   ]
  },
  {
   "cell_type": "code",
   "execution_count": 51,
   "outputs": [
    {
     "name": "stdout",
     "output_type": "stream",
     "text": [
      "(22382,)\n"
     ]
    }
   ],
   "source": [
    "print(Y.shape)"
   ],
   "metadata": {
    "collapsed": false,
    "ExecuteTime": {
     "end_time": "2024-01-27T15:59:54.578969600Z",
     "start_time": "2024-01-27T15:59:54.553965900Z"
    }
   }
  },
  {
   "cell_type": "markdown",
   "source": [
    "Notice that the 3 labels have been converted into a numerical value:"
   ],
   "metadata": {
    "collapsed": false
   }
  },
  {
   "cell_type": "code",
   "execution_count": 12,
   "outputs": [
    {
     "name": "stdout",
     "output_type": "stream",
     "text": [
      "The labels: ['artificial-intelligence', 'software-development', 'ux'] have been respectively assigned the values: {0, 1, 2}\n",
      "The label of the first article is: software-development and was assigned label index: 1\n"
     ]
    }
   ],
   "source": [
    "print(f'The labels: {list(multilabel_binarizer.classes_)} have been respectively assigned the values: {set(Y)}')\n",
    "print(f'The label of the first article is: {train[\"labels\"][0]} and was assigned label index: {Y[0]}')"
   ],
   "metadata": {
    "collapsed": false,
    "ExecuteTime": {
     "end_time": "2024-01-27T14:58:36.743602600Z",
     "start_time": "2024-01-27T14:58:36.680603200Z"
    }
   }
  },
  {
   "cell_type": "markdown",
   "source": [
    "# Basic Word2Vec model prediction\n",
    "\n",
    "We will train the model on the corpus composed of a list of a list of the words per article title + subtitle pair."
   ],
   "metadata": {
    "collapsed": false
   }
  },
  {
   "cell_type": "code",
   "execution_count": 13,
   "outputs": [],
   "source": [
    "# all_texts = [x[0]+ \" \" + x[1] for x in zip(final_data.title,final_data.subtitle)]\n",
    "# print(all_texts[0])\n",
    "# \n",
    "# all_texts_split = [text.split(\" \") for text in all_texts]\n",
    "# print(all_texts_split[0])\n",
    "# \n",
    "# unique_values_set = set()\n",
    "# for sublist in all_texts_split:\n",
    "#     for value in sublist:\n",
    "#         unique_values_set.add(value)\n",
    "# \n",
    "# print(f'We will train on {len(all_texts_split)} article descriptions, with {sum([len(v) for v in all_texts_split])} words in total, with {len(unique_values_set)} unique entries.')"
   ],
   "metadata": {
    "collapsed": false,
    "ExecuteTime": {
     "end_time": "2024-01-27T14:58:36.758601800Z",
     "start_time": "2024-01-27T14:58:36.698602Z"
    }
   }
  },
  {
   "cell_type": "code",
   "execution_count": 14,
   "metadata": {
    "ExecuteTime": {
     "end_time": "2024-01-27T14:58:36.763600900Z",
     "start_time": "2024-01-27T14:58:36.713601200Z"
    }
   },
   "outputs": [],
   "source": [
    "# from gensim.models import Word2Vec\n",
    "# \"\"\"Train word2vec model on title + subtitles to establish a baseline without network structure\"\"\"\n",
    "# word2vec_model = Word2Vec(all_texts_split, vector_size=128, window=10, epochs=30, sg=1, workers=4,min_count=1)"
   ]
  },
  {
   "cell_type": "markdown",
   "source": [
    "Sample usage of the model:"
   ],
   "metadata": {
    "collapsed": false
   }
  },
  {
   "cell_type": "code",
   "execution_count": 15,
   "outputs": [],
   "source": [
    "# np.set_printoptions(threshold=10)\n",
    "# print(f'The embedding for the word \"Spring\" is {word2vec_model.wv[\"Spring\"]}, with shape: {word2vec_model.wv[\"Spring\"].shape}')\n",
    "# \n",
    "# # Running the model on an unseen word will raise an error!"
   ],
   "metadata": {
    "collapsed": false,
    "ExecuteTime": {
     "end_time": "2024-01-27T14:58:36.850605800Z",
     "start_time": "2024-01-27T14:58:36.728602700Z"
    }
   }
  },
  {
   "cell_type": "code",
   "execution_count": 16,
   "metadata": {
    "ExecuteTime": {
     "end_time": "2024-01-27T14:58:36.871602Z",
     "start_time": "2024-01-27T14:58:36.747601200Z"
    }
   },
   "outputs": [],
   "source": [
    "# from sklearn.svm import SVC\n",
    "# embeddings = []\n",
    "# \"\"\"Infer word2vec embeddings for article titles and subtitles using trained word2vec model\"\"\"\n",
    "# for text in texts:\n",
    "#     # Each text is one article (title + subtitle)\n",
    "#     embeddings.append(\n",
    "#         np.mean(\n",
    "#             [word2vec_model.wv[word] for word in text.split(\" \")] # At this point, we will have an array of size (n, 128) where n is the number of words in the title + subtitle\n",
    "#             , axis=0 # We compress each column, thus we obtain an array of size (1,128) which represents the embedding of each article (text)\n",
    "#         ) # We add the embedding to our list\n",
    "#     )\n",
    "# \n",
    "# X_word2vec = np.vstack(embeddings)\n",
    "# print(f'The shape {X_word2vec.shape} corresponds to the 128 parameter long encoding of each article.')\n",
    "# print(f'This corresponds to Y array with {Y.shape} entries, containing the labels for each article.')"
   ]
  },
  {
   "cell_type": "code",
   "execution_count": 17,
   "metadata": {
    "ExecuteTime": {
     "end_time": "2024-01-27T14:58:36.890601900Z",
     "start_time": "2024-01-27T14:58:36.760601300Z"
    }
   },
   "outputs": [],
   "source": [
    "# \"\"\"Train a SVM classifier on generated article embeddings\"\"\"\n",
    "# svc = SVC()\n",
    "# svc.fit(X_word2vec,Y)"
   ]
  },
  {
   "cell_type": "code",
   "execution_count": 18,
   "metadata": {
    "ExecuteTime": {
     "end_time": "2024-01-27T14:58:36.901601Z",
     "start_time": "2024-01-27T14:58:36.775600900Z"
    }
   },
   "outputs": [],
   "source": [
    "# test_embeddings = []\n",
    "# test_texts = [x[0]+ \" \" + x[1] for x in zip(test.title,test.subtitle)]\n",
    "# \"\"\"Compute embeddings for test samples\"\"\"\n",
    "# for text in test_texts:\n",
    "#     test_embeddings.append(np.mean([word2vec_model.wv[word] for word in text.split(\" \")], axis=0))\n",
    "# X_word2vec_test = np.vstack(test_embeddings)\n",
    "# print(f'The shape {X_word2vec_test.shape} corresponds to the 128 parameter long encoding of each article in the test data.')"
   ]
  },
  {
   "cell_type": "code",
   "execution_count": 19,
   "metadata": {
    "ExecuteTime": {
     "end_time": "2024-01-27T14:58:36.902603600Z",
     "start_time": "2024-01-27T14:58:36.790600500Z"
    }
   },
   "outputs": [],
   "source": [
    "# \"\"\"Generate predictions using the SVM classifier for test articles\"\"\"\n",
    "# predictions = svc.predict(X_word2vec_test)"
   ]
  },
  {
   "cell_type": "code",
   "execution_count": 41,
   "metadata": {
    "ExecuteTime": {
     "end_time": "2024-01-27T15:49:19.643544600Z",
     "start_time": "2024-01-27T15:49:19.586545100Z"
    }
   },
   "outputs": [],
   "source": [
    "\"\"\"Encode reference labels\"\"\"\n",
    "Y_test = multilabel_binarizer.transform(test[\"labels\"])"
   ]
  },
  {
   "cell_type": "markdown",
   "source": [
    "Add this point we have a first attempt at predicting the label for articles in our test set, without using the list information at all, rather just analyzing the embeddings of each article's description. We can see that both the predicted and Y_test have the same number of elements (as a sanity check - we are testing on 3950 articles). \n",
    "\n",
    "However, we can already spot that we have not predicted any articles having the \"UX\" label. Granted, these were only 29 out of 3950, or 0.73%, with a similarly low percentage in the training data (0.67%)."
   ],
   "metadata": {
    "collapsed": false
   }
  },
  {
   "cell_type": "code",
   "execution_count": 21,
   "outputs": [],
   "source": [
    "# print(predictions.shape)\n",
    "# print(set(predictions))\n",
    "# print(Y_test.shape)\n",
    "# print(set(Y_test))"
   ],
   "metadata": {
    "collapsed": false,
    "ExecuteTime": {
     "end_time": "2024-01-27T14:58:36.904602400Z",
     "start_time": "2024-01-27T14:58:36.822601300Z"
    }
   }
  },
  {
   "cell_type": "code",
   "execution_count": 22,
   "metadata": {
    "ExecuteTime": {
     "end_time": "2024-01-27T14:58:36.906601Z",
     "start_time": "2024-01-27T14:58:36.838601800Z"
    }
   },
   "outputs": [],
   "source": [
    "# from sklearn import metrics\n",
    "# \"\"\"Compute Macro f1\"\"\"\n",
    "# print(metrics.f1_score(Y_test, predictions,average=\"macro\"))"
   ]
  },
  {
   "cell_type": "code",
   "execution_count": 23,
   "metadata": {
    "ExecuteTime": {
     "end_time": "2024-01-27T14:58:36.917607900Z",
     "start_time": "2024-01-27T14:58:36.854601500Z"
    }
   },
   "outputs": [],
   "source": [
    "# print(metrics.classification_report(Y_test, predictions))"
   ]
  },
  {
   "cell_type": "markdown",
   "source": [
    "We can see that because of the low proportion of \"UX\" articles, we get a low f1-score. However, the weighted average suggests a precision of around 82%."
   ],
   "metadata": {
    "collapsed": false
   }
  },
  {
   "attachments": {},
   "cell_type": "markdown",
   "metadata": {},
   "source": [
    "# Graph embeddings - Pipeline Overview \n",
    "\n",
    "Our goal is to construct a graph from the given data by connecting nodes that at least share one common subscription list.\n",
    "\n",
    "This step is followed by a random walk to construct node embeddings.\n",
    "\n",
    "Then the node embeddings are employed for the task of topic classification."
   ]
  },
  {
   "attachments": {},
   "cell_type": "markdown",
   "metadata": {},
   "source": [
    "## Forming the graph - monopartite projection\n",
    "\n",
    "Our goal is to construct a graph from  given data by connecting nodes that at least share one common subscription list. The networkx part has already been written for you. \n",
    "\n",
    "Your task here is to write the module to construct the edges and find isolated nodes and also analyze the resulting graph by reporting number of edges, number of nodes, number of isolated nodes. \n",
    "\n"
   ]
  },
  {
   "cell_type": "code",
   "execution_count": 24,
   "outputs": [],
   "source": [
    "from typing import List,Dict\n",
    "\n",
    "def get_nodes_url(data: pd.DataFrame) -> Dict:\n",
    "    \"\"\" Given the dataframe with articles and lists return the set of nodes\n",
    "        Args:\n",
    "        data (pd.DataFrame): The medium dataset\n",
    "    Returns:\n",
    "        nodes: dict maps a url to its main id\"\"\"\n",
    "    nodes = {}\n",
    "    url_to_node = {}\n",
    "    for index, row in data.iterrows():\n",
    "        if row[\"article\"] not in url_to_node:\n",
    "            nodes[index] = [row[\"article\"]]\n",
    "            url_to_node[row[\"article\"]] = index\n",
    "        else:\n",
    "            # add alternative id\n",
    "            nodes[url_to_node[row[\"article\"]]].append(index)\n",
    "    return url_to_node"
   ],
   "metadata": {
    "collapsed": false,
    "ExecuteTime": {
     "end_time": "2024-01-27T14:58:36.948600300Z",
     "start_time": "2024-01-27T14:58:36.869600400Z"
    }
   }
  },
  {
   "cell_type": "code",
   "execution_count": 25,
   "metadata": {
    "ExecuteTime": {
     "end_time": "2024-01-27T14:58:36.950598800Z",
     "start_time": "2024-01-27T14:58:36.885600400Z"
    }
   },
   "outputs": [],
   "source": [
    "def get_edges(data: pd.DataFrame, nodes: Dict) -> List:\n",
    "    \"\"\" Given the dataframe with articles and lists return the set of edges\n",
    "        Args:\n",
    "        data (pd.DataFrame): The medium dataset\n",
    "        nodes: dict (nodeId: article title)\n",
    "    Returns:\n",
    "            edges (List[tuple]): List of edges\"\"\"\n",
    "    edges = set()\n",
    "    ## START\n",
    "    \n",
    "    # dictionary to get main id from article url\n",
    "    url_to_mainId = get_nodes_url(data)\n",
    "    \n",
    "    # for each list, we will store all the articles that are part of it, then we will create edges between each of the paris of articles part of the same list\n",
    "    lists = {} \n",
    "    for index, row in data.iterrows():\n",
    "        if index in nodes:\n",
    "            mainId = index\n",
    "        else:\n",
    "            # index is an alternative id\n",
    "            mainId = url_to_mainId[row[\"article\"]]\n",
    "        \n",
    "        # since some articles are part of multiple lists we will assign them to each\n",
    "        urls = row[\"list\"].split('; ')\n",
    "        for url in urls:\n",
    "            if url in lists:\n",
    "                lists[url].append(mainId)\n",
    "            else:\n",
    "                lists[url] = [mainId]\n",
    "    for list_values in lists.values():\n",
    "        n = len(list_values)\n",
    "        for i in range(0, n):\n",
    "            for j in range(i+1, n):\n",
    "                edges.add((list_values[i], list_values[j]))\n",
    "    ##END\n",
    "    return list(edges)"
   ]
  },
  {
   "cell_type": "code",
   "execution_count": 26,
   "metadata": {
    "ExecuteTime": {
     "end_time": "2024-01-27T14:58:36.981599600Z",
     "start_time": "2024-01-27T14:58:36.903602600Z"
    }
   },
   "outputs": [],
   "source": [
    "def get_nodes(data: pd.DataFrame) -> Dict:\n",
    "    \"\"\" Given the dataframe with articles and lists return the set of nodes\n",
    "        Args:\n",
    "        data (pd.DataFrame): The medium dataset\n",
    "    Returns:\n",
    "        nodes: dict maps a main id to its url (first element in the value list), then alternative ids (defined below)\"\"\"\n",
    "    nodes = {}\n",
    "    url_to_node = {}\n",
    "    for index, row in data.iterrows():\n",
    "        if row[\"article\"] not in url_to_node:\n",
    "            nodes[index] = [row[\"article\"]]\n",
    "            url_to_node[row[\"article\"]] = index\n",
    "        else:\n",
    "            # add alternative id\n",
    "            nodes[url_to_node[row[\"article\"]]].append(index)\n",
    "    return nodes"
   ]
  },
  {
   "cell_type": "markdown",
   "source": [
    "Note that, as per our earlier discussion, the article urls are not unique in the full data. Thus, we will modify the get_nodes to reflect this fact. We will use the row index of the first appearance of a url to be the main id. Then, in order to capture eventual repeating values, we will also store the other indexes (alternative ids) of the same article as a list in the returned dictionary. Notice that the urls are also unique in the returned dictionary, linked 1 to 1 to the main id.\n",
    "\n",
    "For example: 0 -> \\[\"url\", 1, 2] means that the article uniquely identified by the \"url\" has the main id 0 (row where it first appear), and alternative ids 1 and 2."
   ],
   "metadata": {
    "collapsed": false
   }
  },
  {
   "cell_type": "code",
   "execution_count": 27,
   "outputs": [
    {
     "name": "stdout",
     "output_type": "stream",
     "text": [
      "1058\n",
      "2\n",
      "(26685, ['https://medium.com/@maniakacademy/automating-application-delivery-with-consul-nia-part-1-f5-big-ip-b5e30138be5c', 26875])\n",
      "1054\n"
     ]
    }
   ],
   "source": [
    "nodes = get_nodes(final_data)\n",
    "\n",
    "train_url_set = set(train[\"article\"])\n",
    "train_test_set = set(test[\"article\"])\n",
    "\n",
    "count_alternative_ids = 0\n",
    "max_count = 0\n",
    "example_value = ()\n",
    "\n",
    "duplicated_count_labeled = 0\n",
    "\n",
    "for key, value in nodes.items():\n",
    "    if len(value) > 1:\n",
    "        if value[0] in train_url_set or value[0] in train_test_set:\n",
    "            duplicated_count_labeled+=1\n",
    "        example_value = (key, value)\n",
    "        count_alternative_ids+=1\n",
    "        max_count = max(max_count, len(value))\n",
    "print(count_alternative_ids)\n",
    "print(max_count)\n",
    "print(example_value)\n",
    "\n",
    "print(duplicated_count_labeled)"
   ],
   "metadata": {
    "collapsed": false,
    "ExecuteTime": {
     "end_time": "2024-01-27T14:58:38.587600300Z",
     "start_time": "2024-01-27T14:58:36.917607900Z"
    }
   }
  },
  {
   "cell_type": "markdown",
   "source": [
    "Running our code, we can see that for 1058 unique articles, their url appeared more than once (in fact, twice) in the full data. For each of these cases, we have also stored the alternative id. Moreover, 1054 out of the 1058 articles also appear in our labeled data, so our (complex) pre-processing can be justified."
   ],
   "metadata": {
    "collapsed": false
   }
  },
  {
   "cell_type": "code",
   "execution_count": 28,
   "metadata": {
    "ExecuteTime": {
     "end_time": "2024-01-27T14:58:38.619600700Z",
     "start_time": "2024-01-27T14:58:38.586600Z"
    }
   },
   "outputs": [],
   "source": [
    "import networkx as nx\n",
    "def form_graph(data: pd.DataFrame) -> nx.Graph:\n",
    "    \"\"\"Forms graph from medium article dataset.\n",
    "\n",
    "    Args:\n",
    "        data (pd.DataFrame): The medium dataset\n",
    "\n",
    "    Returns:\n",
    "        G (nx.Graph): The graph.\n",
    "\n",
    "       \"\"\"\n",
    "    # texts = [x[0]+\" \" + x[1] for x in zip(data.title,data.subtitle)]\n",
    "    nodes = get_nodes(data)\n",
    "    edges = get_edges(data, nodes)\n",
    "    graph = nx.Graph()\n",
    "    graph.add_nodes_from(list(nodes.keys()))\n",
    "    graph.add_edges_from(edges)\n",
    "    return graph\n"
   ]
  },
  {
   "cell_type": "code",
   "execution_count": 29,
   "metadata": {
    "ExecuteTime": {
     "end_time": "2024-01-27T14:58:47.578609100Z",
     "start_time": "2024-01-27T14:58:38.603601800Z"
    }
   },
   "outputs": [],
   "source": [
    "graph = form_graph(final_data)\n"
   ]
  },
  {
   "cell_type": "code",
   "execution_count": 67,
   "outputs": [
    {
     "name": "stdout",
     "output_type": "stream",
     "text": [
      "26660\n"
     ]
    }
   ],
   "source": [
    "print(len(nodes))"
   ],
   "metadata": {
    "collapsed": false,
    "ExecuteTime": {
     "end_time": "2024-01-27T16:11:24.046207900Z",
     "start_time": "2024-01-27T16:11:24.012211100Z"
    }
   }
  },
  {
   "cell_type": "markdown",
   "source": [
    "Now that we have created the graph (might take a minute), we can run some analysis on it:"
   ],
   "metadata": {
    "collapsed": false
   }
  },
  {
   "cell_type": "code",
   "execution_count": 30,
   "outputs": [
    {
     "name": "stdout",
     "output_type": "stream",
     "text": [
      "Number of nodes: 26660. This corresponds to the number of rows in the final data (27718) - the number of rows which refer to the same article url (1058 -> computed earlier).\n",
      "\n",
      "Number of edges: 1711216\n",
      "\n",
      "As a measure of the sparseness of the adjacency matrix, we can check how many edges we have, with respect to how many pairs of nodes exist: 0.002407601150099978, or around 0.2407601150099978%.\n"
     ]
    }
   ],
   "source": [
    "print(f'Number of nodes: {graph.number_of_nodes()}. This corresponds to the number of rows in the final data ({len(final_data)}) - the number of rows which refer to the same article url ({count_alternative_ids} -> computed earlier).\\n')\n",
    "print(f'Number of edges: {graph.number_of_edges()}\\n')\n",
    "print(f'As a measure of the sparseness of the adjacency matrix, we can check how many edges we have, with respect to how many pairs of nodes exist: {graph.number_of_edges() / (graph.number_of_nodes() ** 2)}, or around {graph.number_of_edges() / (graph.number_of_nodes() ** 2) * 100}%.')\n"
   ],
   "metadata": {
    "collapsed": false,
    "ExecuteTime": {
     "end_time": "2024-01-27T14:58:47.628601Z",
     "start_time": "2024-01-27T14:58:47.578609100Z"
    }
   }
  },
  {
   "attachments": {},
   "cell_type": "markdown",
   "metadata": {},
   "source": [
    "# Node2Vec\n",
    "\n",
    "Here the task is to perform random walks on the graph formed in the previous step and compute embeddings for the nodes using the random walk results.\n",
    "\n",
    "You can use gensim to compute embeddings, however for random walks you are expected to implement without relying on networkx. Your weblab assignment would aid you in the same. For gensim you are expected to use Word2Vec. However you  can explore on best ways to configure the hyperparams for your word2vec instance for better donwstream classification task."
   ]
  },
  {
   "cell_type": "code",
   "execution_count": 31,
   "metadata": {
    "ExecuteTime": {
     "end_time": "2024-01-27T14:58:47.691600200Z",
     "start_time": "2024-01-27T14:58:47.627601400Z"
    }
   },
   "outputs": [
    {
     "name": "stdout",
     "output_type": "stream",
     "text": [
      "We have 347 isolated nodes.\n"
     ]
    }
   ],
   "source": [
    "# Find isolated nodes with no neighbors before random walks\n",
    "### START\n",
    "isolated = []\n",
    "for node in graph:\n",
    "    if graph.degree(node) == 0:\n",
    "        isolated.append(node)\n",
    "print(f'We have {len(isolated)} isolated nodes.')\n",
    "### END"
   ]
  },
  {
   "cell_type": "code",
   "execution_count": 32,
   "metadata": {
    "ExecuteTime": {
     "end_time": "2024-01-27T14:58:47.691600200Z",
     "start_time": "2024-01-27T14:58:47.661601700Z"
    }
   },
   "outputs": [],
   "source": [
    "import random\n",
    "def random_walks(G: nx.Graph, num_walks: int, walk_length: int, isolated: List) -> np.ndarray:\n",
    "    \"\"\"Perform random walks on the graph.\n",
    "\n",
    "    Args:\n",
    "        G (nx.Graph): The graph.\n",
    "        num_walks (int): The number of random walks for each node.\n",
    "        walk_length (int): The number of nodes in a random walk.\n",
    "        isolated (List[int]): list of isolated nodeids\n",
    "\n",
    "    Returns:\n",
    "        np.ndarray: The random walks, shape (n_nodes * num_walks, walk_length)\n",
    "    \"\"\"\n",
    "    result = []\n",
    "    isolated_set = set(isolated)\n",
    "    ### START\n",
    "    for node in sorted(G):\n",
    "        if node in isolated_set:\n",
    "            continue\n",
    "        for walk in range(num_walks):\n",
    "            walk_result = []\n",
    "            cur_node = node\n",
    "            for step in range(walk_length):\n",
    "                walk_result.append(cur_node)\n",
    "                list_neighbors = list(G[cur_node].keys())\n",
    "                cur_node = random.choice(list_neighbors)\n",
    "            result.append(walk_result)\n",
    "    ## END\n",
    "    return np.asarray(result)"
   ]
  },
  {
   "cell_type": "code",
   "execution_count": null,
   "outputs": [],
   "source": [],
   "metadata": {
    "collapsed": false
   }
  },
  {
   "cell_type": "code",
   "execution_count": 33,
   "metadata": {
    "ExecuteTime": {
     "end_time": "2024-01-27T14:59:28.772601300Z",
     "start_time": "2024-01-27T14:58:47.675601400Z"
    }
   },
   "outputs": [],
   "source": [
    "walks = random_walks(graph, 8, 15,isolated)"
   ]
  },
  {
   "cell_type": "code",
   "execution_count": 60,
   "outputs": [
    {
     "name": "stdout",
     "output_type": "stream",
     "text": [
      "26313.0\n"
     ]
    }
   ],
   "source": [
    "print(len(walks) / 8)"
   ],
   "metadata": {
    "collapsed": false,
    "ExecuteTime": {
     "end_time": "2024-01-27T16:07:48.235590500Z",
     "start_time": "2024-01-27T16:07:48.198591600Z"
    }
   }
  },
  {
   "cell_type": "code",
   "execution_count": 34,
   "metadata": {
    "ExecuteTime": {
     "end_time": "2024-01-27T14:59:28.788602600Z",
     "start_time": "2024-01-27T14:59:28.775601700Z"
    }
   },
   "outputs": [],
   "source": [
    "from gensim.models import Word2Vec\n",
    "def fit_node2vec(walks: np.ndarray, vector_size: int, window: int, epochs: int) -> Word2Vec:\n",
    "    \"\"\"Train a Node2Vec model on random walks. Uses the GenSim Word2Vec implementation.\n",
    "\n",
    "    Args:\n",
    "        walks (np.ndarray): The random walks.\n",
    "        vector_size (int): Node representation size.\n",
    "        window (int): Window width.\n",
    "        epochs (int): Number of epochs.\n",
    "\n",
    "    Returns:\n",
    "        Word2Vec: The trained model.\n",
    "        \n",
    "        \n",
    "        \n",
    "    \"\"\"\n",
    "   ### START\n",
    "    aux = [[str(x) for x in y] for y in walks]\n",
    "    return Word2Vec(sentences=aux, window=window, vector_size=vector_size, epochs = epochs)\n",
    "   ### END"
   ]
  },
  {
   "cell_type": "code",
   "execution_count": 35,
   "outputs": [
    {
     "name": "stdout",
     "output_type": "stream",
     "text": [
      "(210504, 15)\n"
     ]
    }
   ],
   "source": [
    "print(walks.shape)"
   ],
   "metadata": {
    "collapsed": false,
    "ExecuteTime": {
     "end_time": "2024-01-27T14:59:28.897600300Z",
     "start_time": "2024-01-27T14:59:28.791601700Z"
    }
   }
  },
  {
   "cell_type": "code",
   "execution_count": 36,
   "metadata": {
    "ExecuteTime": {
     "end_time": "2024-01-27T14:59:56.778233600Z",
     "start_time": "2024-01-27T14:59:31.210068Z"
    }
   },
   "outputs": [],
   "source": [
    "model = fit_node2vec(walks, 128, 5, 10)"
   ]
  },
  {
   "cell_type": "code",
   "execution_count": 132,
   "metadata": {
    "ExecuteTime": {
     "end_time": "2024-01-27T16:40:13.272604600Z",
     "start_time": "2024-01-27T16:40:13.252580300Z"
    }
   },
   "outputs": [],
   "source": [
    "def get_nodeids(data: pd.DataFrame):\n",
    "    \"\"\"Get nodeids from graph\n",
    "\n",
    "    Args:\n",
    "        data (pd.DataFrame): medium articles dataset\n",
    "\n",
    "    Returns:\n",
    "        nodes (dict): nodeids with mapped article titles\n",
    "    \"\"\"\n",
    "    nodeset = set()\n",
    "    for index, row in data.iterrows():\n",
    "        if row[\"index\"] in nodes:\n",
    "            nodeset.add(row[\"index\"])\n",
    "    return sorted(list(nodeset))"
   ]
  },
  {
   "cell_type": "code",
   "execution_count": 133,
   "metadata": {
    "ExecuteTime": {
     "end_time": "2024-01-27T16:40:14.874322200Z",
     "start_time": "2024-01-27T16:40:13.484323Z"
    }
   },
   "outputs": [],
   "source": [
    "\"\"\"Get train and test nodes from the graph\n",
    "    \"\"\"\n",
    "train_nodes = get_nodeids(train)\n",
    "test_nodes = get_nodeids(test)"
   ]
  },
  {
   "cell_type": "code",
   "execution_count": 134,
   "outputs": [
    {
     "name": "stdout",
     "output_type": "stream",
     "text": [
      "[4, 15, 19, 20, 23, 29, 44, 61, 73, 75, 78, 86, 92, 105, 109, 116, 118, 123, 134, 138, 148, 157, 178, 184, 207, 212, 213, 214, 219, 224, 234, 236, 241, 248, 253, 257, 267, 279, 283, 286, 314, 319, 320, 330, 339, 342, 349, 358, 370, 376, 378, 411, 415, 418, 443, 449, 471, 475, 500, 521, 522, 539, 544, 556, 567, 568, 570, 586, 593, 596, 597, 602, 603, 608, 613, 624, 632, 640, 645, 653, 655, 667, 668, 672, 687, 692, 698, 706, 710, 717, 719, 730, 735, 736, 737, 742, 751, 752, 756, 758, 760, 766, 772, 776, 786, 798, 802, 810, 813, 815, 817, 823, 835, 838, 845, 846, 869, 881, 889, 894, 901, 907, 917, 930, 931, 932, 943, 944, 945, 953, 960, 966, 991, 997, 1001, 1005, 1012, 1019, 1045, 1057, 1064, 1073, 1074, 1082, 1093, 1099, 1105, 1117, 1123, 1138, 1142, 1143, 1148, 1154, 1157, 1158, 1163, 1175, 1179, 1185, 1207, 1212, 1226, 1228, 1258, 1259, 1265, 1267, 1273, 1275, 1277, 1281, 1290, 1296, 1301, 1311, 1320, 1328, 1338, 1355, 1363, 1374, 1379, 1383, 1396, 1402, 1408, 1413, 1414, 1432, 1467, 1473, 1478, 1496, 1497, 1499, 1514, 1518, 1521, 1528, 1534, 1535, 1536, 1539, 1547, 1548, 1551, 1554, 1558, 1569, 1570, 1597, 1600, 1605, 1606, 1609, 1621, 1623, 1627, 1629, 1631, 1632, 1638, 1641, 1645, 1646, 1648, 1662, 1666, 1674, 1692, 1707, 1709, 1728, 1731, 1760, 1761, 1763, 1769, 1775, 1776, 1781, 1786, 1799, 1800, 1801, 1818, 1822, 1825, 1828, 1834, 1845, 1847, 1858, 1882, 1883, 1889, 1893, 1902, 1914, 1915, 1932, 1935, 1944, 1953, 1956, 1961, 1962, 1964, 1968, 1976, 1981, 1984, 1985, 2009, 2010, 2013, 2021, 2023, 2036, 2043, 2046, 2051, 2054, 2070, 2075, 2092, 2105, 2106, 2107, 2108, 2109, 2121, 2123, 2125, 2128, 2133, 2135, 2149, 2159, 2165, 2169, 2179, 2183, 2185, 2190, 2207, 2214, 2229, 2230, 2233, 2234, 2245, 2246, 2257, 2262, 2266, 2278, 2279, 2281, 2282, 2285, 2291, 2292, 2307, 2308, 2314, 2337, 2339, 2341, 2356, 2361, 2375, 2379, 2394, 2397, 2400, 2404, 2406, 2415, 2424, 2432, 2437, 2444, 2446, 2450, 2466, 2477, 2480, 2485, 2486, 2488, 2502, 2505, 2509, 2535, 2540, 2551, 2556, 2582, 2592, 2604, 2607, 2609, 2619, 2625, 2629, 2634, 2638, 2645, 2648, 2654, 2662, 2663, 2676, 2688, 2690, 2692, 2700, 2728, 2733, 2737, 2757, 2759, 2764, 2772, 2773, 2783, 2786, 2790, 2807, 2813, 2816, 2818, 2819, 2823, 2826, 2839, 2851, 2875, 2876, 2885, 2886, 2888, 2895, 2897, 2904, 2924, 2932, 2937, 2955, 2967, 2979, 2988, 3003, 3007, 3009, 3016, 3021, 3025, 3029, 3033, 3035, 3036, 3037, 3038, 3047, 3051, 3057, 3059, 3060, 3067, 3096, 3102, 3105, 3114, 3116, 3120, 3127, 3148, 3154, 3158, 3166, 3177, 3179, 3181, 3197, 3205, 3227, 3229, 3236, 3238, 3241, 3251, 3261, 3267, 3271, 3283, 3287, 3288, 3294, 3295, 3300, 3327, 3329, 3341, 3345, 3348, 3354, 3372, 3374, 3381, 3386, 3389, 3395, 3409, 3417, 3419, 3420, 3424, 3431, 3434, 3439, 3440, 3464, 3466, 3478, 3500, 3502, 3504, 3505, 3515, 3538, 3560, 3562, 3568, 3580, 3593, 3604, 3612, 3620, 3623, 3633, 3635, 3647, 3650, 3659, 3663, 3671, 3676, 3686, 3690, 3695, 3696, 3698, 3702, 3704, 3710, 3722, 3749, 3766, 3771, 3772, 3782, 3795, 3807, 3821, 3825, 3854, 3867, 3878, 3883, 3906, 3919, 3929, 3940, 3956, 3961, 3964, 3995, 3996, 4006, 4013, 4015, 4021, 4029, 4030, 4046, 4055, 4058, 4068, 4073, 4074, 4079, 4088, 4089, 4101, 4116, 4120, 4121, 4122, 4139, 4141, 4147, 4149, 4153, 4174, 4177, 4179, 4185, 4195, 4200, 4208, 4220, 4226, 4228, 4230, 4233, 4234, 4238, 4242, 4251, 4263, 4267, 4281, 4283, 4297, 4315, 4321, 4361, 4362, 4366, 4372, 4373, 4405, 4407, 4410, 4411, 4414, 4415, 4418, 4439, 4443, 4452, 4455, 4466, 4467, 4476, 4482, 4488, 4495, 4497, 4504, 4505, 4519, 4523, 4538, 4542, 4548, 4556, 4558, 4563, 4581, 4584, 4590, 4599, 4600, 4601, 4607, 4612, 4625, 4633, 4640, 4649, 4665, 4668, 4691, 4693, 4709, 4711, 4718, 4722, 4724, 4727, 4737, 4742, 4752, 4754, 4756, 4763, 4767, 4769, 4777, 4782, 4803, 4820, 4830, 4838, 4840, 4841, 4846, 4853, 4860, 4863, 4866, 4868, 4889, 4890, 4900, 4908, 4911, 4917, 4920, 4926, 4930, 4934, 4935, 4953, 4958, 4960, 4961, 4963, 4970, 4975, 4986, 4987, 4988, 4990, 5002, 5003, 5004, 5009, 5011, 5021, 5024, 5039, 5050, 5058, 5065, 5067, 5071, 5072, 5073, 5077, 5099, 5102, 5104, 5118, 5119, 5134, 5138, 5143, 5155, 5156, 5188, 5195, 5197, 5204, 5211, 5212, 5215, 5216, 5225, 5245, 5247, 5249, 5259, 5270, 5272, 5277, 5304, 5307, 5309, 5323, 5342, 5372, 5392, 5395, 5399, 5408, 5412, 5424, 5435, 5447, 5463, 5475, 5481, 5489, 5491, 5494, 5495, 5526, 5528, 5534, 5542, 5543, 5554, 5565, 5570, 5576, 5591, 5609, 5621, 5640, 5645, 5659, 5662, 5664, 5668, 5671, 5675, 5681, 5684, 5694, 5698, 5701, 5702, 5703, 5706, 5712, 5714, 5719, 5721, 5728, 5735, 5739, 5743, 5746, 5747, 5750, 5756, 5760, 5761, 5791, 5796, 5823, 5832, 5834, 5838, 5857, 5867, 5872, 5876, 5888, 5899, 5919, 5927, 5946, 5987, 5989, 5992, 5995, 5999, 6004, 6009, 6018, 6019, 6020, 6022, 6052, 6054, 6057, 6063, 6078, 6091, 6103, 6105, 6116, 6117, 6123, 6129, 6143, 6146, 6149, 6151, 6166, 6172, 6189, 6209, 6214, 6229, 6237, 6247, 6251, 6252, 6253, 6256, 6262, 6270, 6274, 6276, 6281, 6294, 6302, 6325, 6333, 6337, 6342, 6343, 6347, 6374, 6378, 6389, 6401, 6413, 6417, 6425, 6430, 6432, 6475, 6480, 6481, 6490, 6505, 6507, 6514, 6521, 6523, 6534, 6544, 6558, 6560, 6562, 6573, 6574, 6575, 6580, 6584, 6594, 6616, 6621, 6623, 6631, 6640, 6642, 6643, 6649, 6670, 6696, 6701, 6704, 6706, 6709, 6720, 6738, 6742, 6743, 6747, 6757, 6768, 6772, 6774, 6787, 6793, 6802, 6806, 6830, 6832, 6863, 6866, 6869, 6876, 6882, 6889, 6890, 6902, 6929, 6943, 6956, 6961, 6962, 6973, 6984, 6990, 6997, 7014, 7015, 7027, 7030, 7035, 7036, 7050, 7052, 7061, 7078, 7089, 7096, 7118, 7122, 7128, 7130, 7133, 7135, 7142, 7143, 7151, 7160, 7164, 7167, 7179, 7180, 7185, 7188, 7193, 7217, 7221, 7225, 7227, 7240, 7252, 7262, 7263, 7271, 7276, 7290, 7292, 7307, 7309, 7315, 7316, 7333, 7334, 7337, 7340, 7343, 7361, 7366, 7368, 7370, 7379, 7380, 7387, 7391, 7397, 7409, 7424, 7448, 7475, 7476, 7480, 7486, 7503, 7504, 7515, 7517, 7533, 7540, 7541, 7554, 7557, 7561, 7584, 7587, 7591, 7597, 7601, 7606, 7611, 7614, 7632, 7641, 7645, 7653, 7662, 7667, 7668, 7671, 7674, 7685, 7692, 7693, 7699, 7708, 7731, 7739, 7742, 7744, 7767, 7779, 7792, 7808, 7830, 7840, 7845, 7848, 7851, 7856, 7877, 7896, 7897, 7917, 7919, 7931, 7942, 7948, 7953, 7965, 7982, 7983, 7994, 7996, 8003, 8010, 8011, 8012, 8014, 8018, 8020, 8024, 8025, 8032, 8054, 8057, 8058, 8065, 8067, 8073, 8081, 8086, 8094, 8114, 8115, 8120, 8142, 8145, 8149, 8158, 8161, 8162, 8165, 8170, 8172, 8176, 8182, 8185, 8187, 8190, 8199, 8203, 8206, 8207, 8209, 8218, 8224, 8228, 8233, 8257, 8261, 8267, 8270, 8279, 8284, 8292, 8300, 8302, 8311, 8319, 8320, 8347, 8348, 8358, 8364, 8366, 8367, 8377, 8386, 8389, 8400, 8423, 8427, 8428, 8442, 8451, 8453, 8462, 8465, 8466, 8467, 8472, 8476, 8478, 8483, 8484, 8486, 8498, 8500, 8511, 8515, 8532, 8544, 8547, 8548, 8561, 8566, 8584, 8587, 8594, 8595, 8597, 8606, 8612, 8616, 8619, 8622, 8625, 8632, 8633, 8637, 8654, 8656, 8657, 8664, 8667, 8671, 8676, 8682, 8687, 8689, 8699, 8704, 8706, 8709, 8720, 8725, 8727, 8731, 8738, 8741, 8748, 8759, 8770, 8781, 8785, 8788, 8793, 8808, 8811, 8821, 8833, 8850, 8861, 8871, 8883, 8884, 8888, 8901, 8909, 8916, 8920, 8924, 8925, 8930, 8932, 8948, 8953, 8958, 8962, 8963, 8980, 8983, 8985, 8993, 8996, 9023, 9024, 9026, 9027, 9044, 9048, 9053, 9054, 9055, 9066, 9067, 9086, 9091, 9092, 9116, 9125, 9127, 9135, 9139, 9145, 9149, 9155, 9157, 9161, 9163, 9171, 9174, 9175, 9183, 9197, 9209, 9215, 9222, 9233, 9234, 9235, 9248, 9250, 9253, 9254, 9255, 9259, 9260, 9265, 9266, 9267, 9268, 9270, 9272, 9274, 9299, 9305, 9306, 9313, 9315, 9316, 9327, 9335, 9339, 9349, 9372, 9410, 9411, 9412, 9417, 9420, 9434, 9441, 9443, 9463, 9495, 9497, 9506, 9519, 9557, 9561, 9569, 9570, 9578, 9579, 9586, 9594, 9603, 9605, 9606, 9609, 9613, 9626, 9627, 9634, 9637, 9639, 9646, 9658, 9669, 9676, 9680, 9686, 9692, 9699, 9705, 9710, 9718, 9720, 9721, 9722, 9732, 9733, 9739, 9766, 9792, 9802, 9808, 9812, 9813, 9824, 9829, 9830, 9831, 9838, 9854, 9865, 9869, 9876, 9894, 9896, 9900, 9902, 9919, 9926, 9932, 9959, 9961, 9984, 9987, 9996, 9998, 10005, 10019, 10024, 10031, 10054, 10060, 10062, 10065, 10071, 10085, 10086, 10090, 10095, 10099, 10107, 10113, 10120, 10126, 10195, 10197, 10204, 10207, 10222, 10227, 10230, 10235, 10244, 10247, 10255, 10270, 10276, 10277, 10296, 10301, 10306, 10308, 10322, 10325, 10344, 10346, 10355, 10356, 10367, 10369, 10372, 10377, 10379, 10388, 10390, 10406, 10413, 10414, 10416, 10419, 10422, 10432, 10456, 10457, 10464, 10467, 10480, 10482, 10483, 10491, 10499, 10503, 10508, 10513, 10535, 10546, 10552, 10555, 10604, 10606, 10610, 10615, 10623, 10628, 10633, 10634, 10636, 10640, 10644, 10666, 10668, 10669, 10672, 10673, 10678, 10686, 10693, 10702, 10705, 10708, 10712, 10713, 10723, 10730, 10741, 10749, 10757, 10760, 10765, 10767, 10770, 10789, 10796, 10819, 10820, 10825, 10854, 10904, 10924, 10929, 10930, 10933, 10935, 10943, 10948, 10949, 10957, 10958, 10959, 10960, 10975, 10980, 10986, 10995, 11000, 11003, 11012, 11016, 11018, 11031, 11035, 11040, 11045, 11057, 11059, 11074, 11075, 11076, 11078, 11079, 11080, 11081, 11095, 11102, 11105, 11106, 11116, 11119, 11141, 11146, 11150, 11157, 11161, 11177, 11180, 11186, 11198, 11200, 11205, 11212, 11217, 11221, 11234, 11242, 11244, 11254, 11259, 11265, 11268, 11269, 11278, 11280, 11281, 11282, 11292, 11305, 11309, 11313, 11314, 11327, 11330, 11336, 11337, 11343, 11344, 11350, 11360, 11362, 11365, 11366, 11367, 11373, 11385, 11395, 11405, 11407, 11412, 11426, 11449, 11470, 11471, 11474, 11498, 11499, 11514, 11529, 11538, 11551, 11556, 11558, 11565, 11569, 11574, 11576, 11580, 11583, 11588, 11609, 11639, 11649, 11650, 11651, 11652, 11657, 11662, 11663, 11677, 11683, 11685, 11692, 11700, 11705, 11706, 11716, 11718, 11723, 11728, 11738, 11739, 11742, 11768, 11774, 11780, 11787, 11788, 11807, 11830, 11843, 11872, 11873, 11874, 11891, 11904, 11908, 11911, 11917, 11923, 11931, 11954, 11976, 11986, 12008, 12011, 12012, 12014, 12061, 12069, 12074, 12083, 12084, 12088, 12103, 12121, 12129, 12132, 12138, 12143, 12144, 12147, 12157, 12158, 12159, 12165, 12166, 12178, 12191, 12194, 12209, 12218, 12221, 12231, 12237, 12240, 12242, 12243, 12250, 12264, 12270, 12281, 12303, 12305, 12308, 12312, 12326, 12327, 12334, 12339, 12346, 12353, 12361, 12366, 12372, 12391, 12392, 12393, 12400, 12407, 12420, 12421, 12431, 12435, 12438, 12440, 12442, 12445, 12454, 12466, 12471, 12477, 12479, 12486, 12498, 12506, 12522, 12534, 12535, 12541, 12575, 12607, 12608, 12609, 12611, 12613, 12629, 12634, 12636, 12641, 12642, 12650, 12652, 12668, 12674, 12678, 12685, 12689, 12690, 12692, 12704, 12710, 12717, 12733, 12736, 12737, 12745, 12747, 12752, 12753, 12767, 12772, 12776, 12780, 12781, 12788, 12794, 12796, 12801, 12816, 12817, 12823, 12829, 12832, 12840, 12857, 12860, 12866, 12889, 12894, 12898, 12902, 12903, 12904, 12909, 12912, 12915, 12928, 12934, 12957, 12965, 12972, 12976, 12983, 12989, 12993, 12994, 13019, 13046, 13073, 13078, 13084, 13098, 13111, 13123, 13125, 13135, 13144, 13146, 13147, 13150, 13153, 13155, 13164, 13172, 13176, 13177, 13183, 13189, 13192, 13199, 13207, 13210, 13212, 13215, 13227, 13231, 13236, 13237, 13244, 13245, 13253, 13259, 13263, 13265, 13266, 13269, 13271, 13275, 13276, 13280, 13281, 13289, 13290, 13294, 13299, 13301, 13310, 13314, 13317, 13319, 13322, 13326, 13329, 13338, 13341, 13344, 13348, 13349, 13371, 13373, 13378, 13393, 13398, 13401, 13402, 13403, 13404, 13412, 13416, 13418, 13430, 13444, 13455, 13462, 13465, 13470, 13472, 13473, 13475, 13480, 13481, 13490, 13492, 13496, 13504, 13507, 13519, 13527, 13528, 13529, 13530, 13536, 13543, 13555, 13578, 13586, 13607, 13620, 13621, 13623, 13627, 13629, 13654, 13658, 13663, 13664, 13666, 13676, 13683, 13685, 13700, 13702, 13722, 13725, 13726, 13727, 13736, 13741, 13744, 13753, 13765, 13767, 13774, 13777, 13783, 13802, 13804, 13811, 13817, 13819, 13825, 13826, 13834, 13837, 13844, 13858, 13871, 13872, 13873, 13875, 13892, 13907, 13917, 13937, 13939, 13946, 13947, 13955, 13958, 13967, 13979, 13984, 13986, 13992, 13996, 14002, 14017, 14024, 14031, 14032, 14034, 14043, 14044, 14045, 14047, 14057, 14059, 14071, 14082, 14091, 14100, 14105, 14107, 14108, 14112, 14120, 14125, 14137, 14145, 14149, 14156, 14158, 14163, 14169, 14170, 14176, 14182, 14185, 14188, 14191, 14207, 14215, 14236, 14247, 14248, 14261, 14268, 14290, 14291, 14292, 14297, 14308, 14313, 14315, 14326, 14338, 14342, 14344, 14350, 14353, 14357, 14364, 14365, 14367, 14368, 14382, 14391, 14395, 14400, 14403, 14410, 14419, 14424, 14433, 14434, 14438, 14441, 14446, 14448, 14466, 14472, 14475, 14507, 14512, 14523, 14535, 14539, 14544, 14546, 14568, 14569, 14571, 14577, 14590, 14592, 14624, 14631, 14639, 14655, 14662, 14664, 14669, 14687, 14707, 14737, 14746, 14747, 14748, 14752, 14758, 14774, 14782, 14806, 14810, 14811, 14822, 14827, 14830, 14831, 14841, 14851, 14853, 14857, 14858, 14888, 14889, 14895, 14908, 14913, 14915, 14930, 14937, 14938, 14940, 14941, 14945, 14950, 14951, 14965, 14967, 14970, 14971, 14976, 14994, 15004, 15006, 15011, 15014, 15016, 15018, 15020, 15047, 15048, 15050, 15073, 15079, 15084, 15089, 15094, 15097, 15103, 15106, 15111, 15112, 15121, 15125, 15138, 15141, 15163, 15166, 15177, 15180, 15181, 15184, 15187, 15188, 15190, 15194, 15202, 15210, 15219, 15220, 15221, 15223, 15228, 15234, 15235, 15236, 15238, 15244, 15245, 15255, 15258, 15261, 15263, 15266, 15277, 15287, 15302, 15311, 15315, 15343, 15344, 15364, 15376, 15380, 15399, 15404, 15405, 15410, 15419, 15425, 15427, 15437, 15439, 15449, 15454, 15458, 15462, 15463, 15465, 15468, 15478, 15486, 15490, 15496, 15504, 15505, 15507, 15511, 15520, 15526, 15529, 15538, 15539, 15545, 15570, 15571, 15575, 15579, 15584, 15595, 15597, 15617, 15619, 15621, 15622, 15627, 15634, 15636, 15654, 15664, 15683, 15685, 15692, 15707, 15716, 15720, 15732, 15735, 15745, 15754, 15761, 15762, 15763, 15770, 15771, 15772, 15777, 15778, 15781, 15782, 15793, 15795, 15797, 15799, 15805, 15815, 15824, 15829, 15831, 15840, 15843, 15847, 15863, 15867, 15872, 15873, 15883, 15914, 15920, 15921, 15926, 15929, 15943, 15953, 15961, 15963, 15980, 15984, 15987, 15993, 15994, 16005, 16007, 16010, 16012, 16018, 16021, 16035, 16036, 16042, 16045, 16051, 16055, 16056, 16062, 16064, 16075, 16085, 16088, 16089, 16092, 16100, 16112, 16121, 16136, 16149, 16165, 16167, 16183, 16194, 16196, 16197, 16214, 16215, 16223, 16229, 16244, 16245, 16246, 16253, 16255, 16257, 16270, 16281, 16282, 16295, 16298, 16309, 16311, 16315, 16347, 16348, 16351, 16368, 16371, 16388, 16392, 16404, 16410, 16441, 16443, 16450, 16457, 16463, 16484, 16485, 16499, 16501, 16510, 16512, 16514, 16520, 16523, 16526, 16529, 16530, 16531, 16540, 16548, 16550, 16555, 16560, 16581, 16582, 16588, 16601, 16602, 16603, 16622, 16623, 16627, 16633, 16634, 16637, 16653, 16654, 16658, 16666, 16667, 16679, 16690, 16696, 16718, 16721, 16729, 16735, 16760, 16767, 16773, 16779, 16780, 16782, 16786, 16792, 16802, 16803, 16812, 16822, 16827, 16831, 16841, 16843, 16845, 16850, 16851, 16865, 16870, 16872, 16873, 16877, 16895, 16902, 16910, 16927, 16932, 16953, 16963, 16965, 16966, 16972, 16978, 16983, 16992, 16999, 17007, 17017, 17031, 17054, 17057, 17077, 17080, 17102, 17113, 17123, 17152, 17175, 17177, 17185, 17193, 17196, 17200, 17213, 17222, 17223, 17225, 17235, 17246, 17251, 17259, 17265, 17267, 17270, 17271, 17275, 17281, 17292, 17299, 17303, 17304, 17315, 17317, 17322, 17347, 17349, 17361, 17378, 17384, 17394, 17395, 17415, 17419, 17425, 17427, 17440, 17456, 17457, 17458, 17467, 17494, 17502, 17519, 17520, 17527, 17528, 17531, 17570, 17573, 17574, 17585, 17597, 17611, 17628, 17629, 17630, 17632, 17655, 17661, 17664, 17672, 17681, 17689, 17695, 17699, 17711, 17722, 17726, 17729, 17745, 17751, 17752, 17768, 17785, 17788, 17791, 17803, 17811, 17812, 17813, 17814, 17824, 17837, 17839, 17845, 17848, 17856, 17859, 17862, 17864, 17877, 17878, 17895, 17916, 17934, 17937, 17939, 17945, 17948, 17951, 17955, 17961, 17962, 17968, 17975, 17976, 17978, 17981, 17988, 17989, 17990, 17995, 18005, 18024, 18029, 18030, 18031, 18050, 18058, 18067, 18070, 18088, 18101, 18104, 18126, 18128, 18130, 18140, 18141, 18142, 18144, 18146, 18183, 18190, 18206, 18227, 18231, 18234, 18236, 18246, 18255, 18256, 18272, 18274, 18275, 18276, 18277, 18279, 18293, 18294, 18299, 18306, 18309, 18322, 18340, 18345, 18348, 18354, 18373, 18409, 18414, 18419, 18429, 18434, 18438, 18440, 18444, 18458, 18469, 18486, 18494, 18497, 18508, 18512, 18522, 18523, 18530, 18538, 18552, 18559, 18588, 18589, 18599, 18618, 18631, 18642, 18646, 18648, 18655, 18665, 18668, 18674, 18678, 18681, 18698, 18713, 18722, 18737, 18744, 18745, 18749, 18758, 18763, 18766, 18782, 18786, 18789, 18790, 18792, 18800, 18807, 18808, 18812, 18816, 18818, 18820, 18824, 18831, 18857, 18865, 18880, 18890, 18894, 18898, 18904, 18908, 18910, 18912, 18913, 18923, 18928, 18930, 18948, 18949, 18950, 18956, 18957, 18981, 18987, 18991, 18996, 19006, 19008, 19021, 19028, 19030, 19033, 19036, 19037, 19050, 19052, 19061, 19096, 19098, 19101, 19113, 19116, 19126, 19135, 19139, 19157, 19160, 19164, 19165, 19175, 19196, 19204, 19206, 19212, 19213, 19215, 19216, 19217, 19220, 19222, 19229, 19241, 19242, 19250, 19279, 19281, 19283, 19284, 19288, 19290, 19320, 19324, 19329, 19352, 19353, 19358, 19360, 19362, 19363, 19369, 19380, 19381, 19383, 19388, 19394, 19406, 19411, 19413, 19416, 19426, 19435, 19438, 19439, 19446, 19484, 19506, 19511, 19513, 19515, 19531, 19534, 19542, 19550, 19555, 19556, 19574, 19589, 19591, 19607, 19611, 19614, 19619, 19628, 19633, 19634, 19635, 19649, 19668, 19690, 19695, 19701, 19705, 19707, 19711, 19713, 19731, 19735, 19739, 19744, 19753, 19765, 19773, 19782, 19797, 19808, 19814, 19823, 19828, 19832, 19835, 19841, 19863, 19865, 19879, 19885, 19891, 19904, 19906, 19912, 19918, 19921, 19929, 19930, 19935, 19937, 19938, 19947, 19953, 19963, 19967, 19985, 19995, 19996, 20007, 20009, 20012, 20014, 20027, 20030, 20039, 20040, 20049, 20054, 20056, 20072, 20090, 20092, 20093, 20102, 20104, 20109, 20123, 20128, 20130, 20131, 20139, 20142, 20143, 20144, 20151, 20162, 20164, 20174, 20175, 20199, 20215, 20218, 20228, 20232, 20233, 20243, 20288, 20291, 20293, 20302, 20306, 20318, 20324, 20325, 20346, 20357, 20364, 20365, 20377, 20381, 20387, 20428, 20442, 20447, 20457, 20459, 20466, 20469, 20476, 20484, 20497, 20499, 20509, 20528, 20536, 20545, 20550, 20553, 20557, 20558, 20561, 20562, 20572, 20573, 20579, 20589, 20594, 20602, 20604, 20605, 20607, 20623, 20638, 20655, 20656, 20657, 20663, 20666, 20669, 20673, 20674, 20675, 20688, 20693, 20696, 20697, 20704, 20708, 20709, 20722, 20736, 20749, 20750, 20756, 20757, 20760, 20775, 20787, 20790, 20792, 20794, 20801, 20820, 20823, 20845, 20849, 20859, 20866, 20871, 20875, 20879, 20884, 20887, 20889, 20894, 20906, 20907, 20911, 20918, 20922, 20924, 20930, 20932, 20940, 20945, 20948, 20954, 20957, 20962, 20969, 20973, 20979, 20984, 20991, 20995, 21001, 21010, 21020, 21025, 21032, 21072, 21082, 21094, 21098, 21099, 21106, 21115, 21131, 21133, 21155, 21162, 21166, 21193, 21195, 21201, 21210, 21214, 21215, 21227, 21234, 21237, 21239, 21245, 21254, 21271, 21278, 21293, 21295, 21306, 21334, 21344, 21357, 21363, 21367, 21379, 21384, 21397, 21403, 21421, 21441, 21450, 21451, 21456, 21465, 21469, 21470, 21476, 21480, 21483, 21492, 21504, 21516, 21518, 21525, 21534, 21562, 21569, 21570, 21577, 21579, 21581, 21603, 21606, 21615, 21619, 21622, 21630, 21639, 21643, 21662, 21666, 21680, 21697, 21703, 21704, 21725, 21727, 21758, 21778, 21780, 21806, 21808, 21822, 21828, 21829, 21857, 21860, 21861, 21882, 21890, 21905, 21911, 21913, 21923, 21928, 21931, 21933, 21939, 21940, 21951, 21957, 21963, 21965, 21969, 21989, 21995, 22006, 22011, 22019, 22027, 22030, 22033, 22041, 22043, 22053, 22065, 22066, 22072, 22074, 22077, 22080, 22099, 22108, 22110, 22113, 22116, 22129, 22141, 22150, 22172, 22185, 22189, 22215, 22216, 22231, 22240, 22243, 22244, 22251, 22260, 22274, 22275, 22276, 22278, 22279, 22283, 22286, 22289, 22303, 22316, 22317, 22341, 22342, 22343, 22351, 22353, 22363, 22379, 22382, 22390, 22400, 22405, 22406, 22416, 22423, 22425, 22444, 22456, 22457, 22458, 22459, 22465, 22466, 22468, 22473, 22487, 22488, 22502, 22509, 22510, 22515, 22521, 22523, 22531, 22549, 22563, 22566, 22570, 22572, 22578, 22581, 22585, 22587, 22588, 22597, 22601, 22604, 22609, 22613, 22628, 22640, 22650, 22655, 22661, 22666, 22671, 22672, 22675, 22682, 22688, 22703, 22711, 22721, 22729, 22751, 22779, 22784, 22800, 22804, 22807, 22824, 22827, 22848, 22857, 22859, 22871, 22877, 22882, 22884, 22889, 22903, 22914, 22929, 22942, 22943, 22962, 22971, 22973, 22974, 22976, 22982, 22984, 22995, 22997, 23000, 23001, 23008, 23017, 23019, 23033, 23049, 23063, 23095, 23113, 23115, 23117, 23122, 23134, 23145, 23147, 23151, 23158, 23164, 23168, 23170, 23186, 23206, 23210, 23220, 23226, 23228, 23239, 23245, 23259, 23274, 23275, 23276, 23280, 23302, 23306, 23307, 23320, 23322, 23332, 23336, 23341, 23344, 23349, 23353, 23360, 23361, 23362, 23379, 23380, 23383, 23391, 23412, 23419, 23425, 23428, 23429, 23443, 23464, 23484, 23504, 23508, 23511, 23513, 23521, 23526, 23533, 23535, 23540, 23547, 23550, 23556, 23559, 23564, 23571, 23572, 23587, 23595, 23602, 23604, 23606, 23614, 23621, 23638, 23640, 23643, 23648, 23655, 23656, 23660, 23664, 23674, 23675, 23685, 23687, 23694, 23699, 23703, 23710, 23713, 23717, 23730, 23733, 23734, 23767, 23773, 23775, 23776, 23787, 23793, 23800, 23814, 23817, 23822, 23827, 23829, 23830, 23833, 23834, 23836, 23838, 23840, 23850, 23859, 23871, 23886, 23893, 23943, 23945, 23953, 23957, 23961, 23963, 23970, 23978, 23986, 23989, 23990, 23991, 24004, 24006, 24010, 24020, 24030, 24044, 24045, 24051, 24052, 24053, 24065, 24067, 24069, 24071, 24095, 24098, 24107, 24124, 24133, 24137, 24139, 24144, 24149, 24151, 24154, 24157, 24163, 24167, 24180, 24192, 24209, 24214, 24215, 24269, 24281, 24283, 24287, 24292, 24294, 24295, 24311, 24316, 24318, 24335, 24337, 24338, 24340, 24350, 24354, 24355, 24356, 24358, 24360, 24362, 24371, 24390, 24393, 24395, 24396, 24402, 24406, 24407, 24424, 24428, 24431, 24435, 24445, 24446, 24449, 24450, 24454, 24469, 24470, 24471, 24482, 24490, 24501, 24509, 24514, 24519, 24521, 24524, 24542, 24544, 24551, 24552, 24561, 24567, 24573, 24609, 24629, 24638, 24639, 24655, 24664, 24666, 24669, 24672, 24679, 24685, 24687, 24692, 24703, 24705, 24731, 24744, 24747, 24748, 24749, 24752, 24762, 24780, 24783, 24786, 24788, 24802, 24804, 24805, 24823, 24832, 24843, 24865, 24872, 24879, 24890, 24896, 24914, 24923, 24930, 24934, 24935, 24936, 24940, 24951, 24953, 24954, 24958, 24961, 24976, 24980, 24984, 24987, 24996, 24998, 25002, 25003, 25005, 25006, 25013, 25021, 25023, 25031, 25038, 25044, 25050, 25060, 25073, 25085, 25086, 25097, 25104, 25105, 25107, 25108, 25117, 25139, 25145, 25152, 25167, 25171, 25174, 25176, 25178, 25195, 25200, 25203, 25214, 25217, 25218, 25219, 25240, 25241, 25253, 25255, 25260, 25268, 25277, 25283, 25297, 25298, 25305, 25315, 25324, 25331, 25335, 25350, 25352, 25353, 25367, 25386, 25392, 25405, 25411, 25417, 25430, 25431, 25438, 25444, 25445, 25446, 25461, 25464, 25478, 25482, 25484, 25489, 25495, 25500, 25501, 25541, 25544, 25555, 25559, 25562, 25565, 25573, 25583, 25584, 25585, 25606, 25615, 25616, 25625, 25640, 25645, 25686, 25693, 25699, 25701, 25716, 25721, 25745, 25748, 25753, 25758, 25766, 25773, 25780, 25788, 25793, 25813, 25817, 25832, 25835, 25837, 25842, 25844, 25850, 25856, 25863, 25864, 25870, 25885, 25892, 25902, 25911, 25919, 25921, 25930, 25932, 25933, 25952, 25954, 25961, 25962, 25973, 25975, 25981, 25990, 25994, 25997, 26000, 26006, 26008, 26012, 26026, 26039, 26041, 26043, 26049, 26052, 26055, 26063, 26071, 26080, 26081, 26094, 26096, 26098, 26099, 26102, 26114, 26115, 26121, 26134, 26135, 26149, 26154, 26164, 26173, 26180, 26192, 26194, 26206, 26213, 26217, 26218, 26219, 26223, 26249, 26251, 26253, 26261, 26277, 26296, 26301, 26302, 26305, 26337, 26343, 26348, 26354, 26355, 26359, 26371, 26379, 26381, 26383, 26384, 26396, 26398, 26399, 26402, 26423, 26449, 26466, 26474, 26477, 26491, 26494, 26502, 26512, 26524, 26525, 26530, 26542, 26563, 26572, 26576, 26583, 26593, 26608, 26621, 26635, 26640, 26644, 26650, 26661, 26671, 26691, 26704, 26710, 26713, 26727, 26756, 26763, 26777, 26813, 26829, 26831, 26840, 26852, 26860, 26876, 26887, 26893, 26895, 26925, 26926, 26943, 26948, 26953, 26955, 26957, 26982, 26989, 26999, 27000, 27001, 27010, 27011, 27041, 27048, 27050, 27066, 27067, 27069, 27079, 27080, 27082, 27085, 27100, 27104, 27106, 27111, 27120, 27124, 27129, 27134, 27138, 27159, 27161, 27176, 27187, 27188, 27193, 27203, 27213, 27223, 27230, 27232, 27236, 27238, 27241, 27245, 27256, 27258, 27265, 27267, 27271, 27282, 27284, 27300, 27301, 27303, 27308, 27309, 27310, 27313, 27321, 27324, 27328, 27354, 27362, 27364, 27375, 27385, 27386, 27394, 27401, 27406, 27410, 27415, 27419, 27433, 27437, 27438, 27451, 27453, 27459, 27463, 27501, 27505, 27514, 27515, 27517, 27524, 27535, 27542, 27568, 27587, 27588, 27593, 27594, 27597, 27611, 27614, 27619, 27630, 27640, 27643, 27644, 27647, 27653, 27655, 27656, 27660, 27664, 27678, 27681, 27687, 27694, 27695, 27708, 27716, 27717]\n"
     ]
    }
   ],
   "source": [
    "print(test_nodes)"
   ],
   "metadata": {
    "collapsed": false,
    "ExecuteTime": {
     "end_time": "2024-01-27T16:40:14.892324500Z",
     "start_time": "2024-01-27T16:40:14.876322300Z"
    }
   }
  },
  {
   "cell_type": "code",
   "execution_count": 135,
   "metadata": {
    "ExecuteTime": {
     "end_time": "2024-01-27T16:40:23.802292100Z",
     "start_time": "2024-01-27T16:40:23.769267300Z"
    }
   },
   "outputs": [
    {
     "name": "stdout",
     "output_type": "stream",
     "text": [
      "21531\n"
     ]
    },
    {
     "data": {
      "text/plain": "3801"
     },
     "execution_count": 135,
     "metadata": {},
     "output_type": "execute_result"
    }
   ],
   "source": [
    "\n",
    "print(len(train_nodes))\n",
    "len(test_nodes)"
   ]
  },
  {
   "cell_type": "code",
   "execution_count": 136,
   "metadata": {
    "ExecuteTime": {
     "end_time": "2024-01-27T16:40:24.171528Z",
     "start_time": "2024-01-27T16:40:24.117503500Z"
    }
   },
   "outputs": [],
   "source": [
    "\"\"\"Get node2vec embeddings (nodeid - mainId to embeddings mapping) for full data\n",
    "    \"\"\"\n",
    "embeddings = {word: model.wv[word] for word in model.wv.index_to_key}\n"
   ]
  },
  {
   "cell_type": "code",
   "execution_count": 137,
   "outputs": [
    {
     "name": "stdout",
     "output_type": "stream",
     "text": [
      "26313\n",
      "347\n"
     ]
    }
   ],
   "source": [
    "print(len(embeddings))\n",
    "print(len(isolated))"
   ],
   "metadata": {
    "collapsed": false,
    "ExecuteTime": {
     "end_time": "2024-01-27T16:40:24.632874500Z",
     "start_time": "2024-01-27T16:40:24.611874100Z"
    }
   }
  },
  {
   "cell_type": "markdown",
   "source": [],
   "metadata": {
    "collapsed": false
   }
  },
  {
   "attachments": {},
   "cell_type": "markdown",
   "metadata": {},
   "source": [
    "# Word2vec + Node2vec"
   ]
  },
  {
   "cell_type": "code",
   "execution_count": null,
   "metadata": {
    "ExecuteTime": {
     "start_time": "2024-01-20T22:20:49.289394Z"
    }
   },
   "outputs": [],
   "source": [
    "\"\"\"Compute train and test embeddings.\n",
    "Concatenate the word2vec embeddings of article titles\n",
    "with the node2vec embeddings using the dictionary from previous step.\n",
    "Dimension 1 of your embeddings should be 256.\n",
    " Consider isolated nodes and handle them when computing embeddings\"\"\"\n",
    "X_train_n2v = [] ### STARt ### END\n",
    "X_test_n2v = [] ### START ### END"
   ]
  },
  {
   "cell_type": "code",
   "execution_count": null,
   "metadata": {
    "ExecuteTime": {
     "start_time": "2024-01-20T22:20:49.293394200Z"
    }
   },
   "outputs": [],
   "source": [
    "X_test_n2v.shape,X_train_n2v.shape"
   ]
  },
  {
   "cell_type": "code",
   "execution_count": null,
   "metadata": {
    "ExecuteTime": {
     "start_time": "2024-01-20T22:20:49.296394200Z"
    }
   },
   "outputs": [],
   "source": [
    "X_train_n2v.shape"
   ]
  },
  {
   "cell_type": "code",
   "execution_count": null,
   "metadata": {
    "ExecuteTime": {
     "start_time": "2024-01-20T22:20:49.299393600Z"
    }
   },
   "outputs": [],
   "source": [
    "from sklearn.multiclass import OneVsRestClassifier\n",
    "from sklearn.svm import LinearSVC,SVC\n",
    "\n",
    "svc = SVC()\n",
    "svc.fit(X_train_n2v,Y)"
   ]
  },
  {
   "cell_type": "code",
   "execution_count": null,
   "metadata": {
    "ExecuteTime": {
     "start_time": "2024-01-20T22:20:49.302393500Z"
    }
   },
   "outputs": [],
   "source": [
    "Y.shape"
   ]
  },
  {
   "cell_type": "code",
   "execution_count": null,
   "metadata": {
    "ExecuteTime": {
     "start_time": "2024-01-20T22:20:49.307393700Z"
    }
   },
   "outputs": [],
   "source": [
    "X_test_n2v.shape"
   ]
  },
  {
   "cell_type": "code",
   "execution_count": null,
   "metadata": {
    "ExecuteTime": {
     "end_time": "2024-01-20T22:20:49.318419800Z",
     "start_time": "2024-01-20T22:20:49.311394800Z"
    }
   },
   "outputs": [],
   "source": [
    "predictions = svc.predict(X_test_n2v)"
   ]
  },
  {
   "cell_type": "code",
   "execution_count": null,
   "metadata": {
    "ExecuteTime": {
     "start_time": "2024-01-20T22:20:49.314395100Z"
    }
   },
   "outputs": [],
   "source": [
    "predictions"
   ]
  },
  {
   "cell_type": "code",
   "execution_count": null,
   "metadata": {
    "ExecuteTime": {
     "start_time": "2024-01-20T22:20:49.316420400Z"
    }
   },
   "outputs": [],
   "source": [
    "from sklearn import metrics\n",
    "print(metrics.f1_score(Y_test, predictions,average=\"macro\"))\n"
   ]
  },
  {
   "cell_type": "code",
   "execution_count": null,
   "metadata": {
    "ExecuteTime": {
     "start_time": "2024-01-20T22:20:49.318419800Z"
    }
   },
   "outputs": [],
   "source": [
    "print(metrics.classification_report(Y_test, predictions))\n"
   ]
  },
  {
   "cell_type": "markdown",
   "metadata": {},
   "source": [
    "# Only node2vec features"
   ]
  },
  {
   "cell_type": "code",
   "execution_count": 138,
   "outputs": [],
   "source": [
    "Y_processed = []\n",
    "for index, row in train.sort_values(by=['index']).iterrows():\n",
    "    if row[\"index\"] in nodes:\n",
    "        Y_processed.append(row[\"labels\"])\n",
    "Y_processed = multilabel_binarizer.transform(Y_processed) "
   ],
   "metadata": {
    "collapsed": false,
    "ExecuteTime": {
     "end_time": "2024-01-27T16:40:31.496786300Z",
     "start_time": "2024-01-27T16:40:30.110755500Z"
    }
   }
  },
  {
   "cell_type": "code",
   "execution_count": 139,
   "outputs": [
    {
     "name": "stdout",
     "output_type": "stream",
     "text": [
      "[0, 1, 2, 3, 5, 7, 8, 9, 10, 11, 12, 13, 14, 16, 17, 18, 21, 22, 24, 25]\n",
      "[1 0 0 0 0 0 1 0 0 1 2 1 1 0 0 0 0 1 0 0]\n"
     ]
    }
   ],
   "source": [
    "print(train_nodes[:20])\n",
    "print(Y_processed[:20])"
   ],
   "metadata": {
    "collapsed": false,
    "ExecuteTime": {
     "end_time": "2024-01-27T16:40:31.512756500Z",
     "start_time": "2024-01-27T16:40:31.498756900Z"
    }
   }
  },
  {
   "cell_type": "code",
   "execution_count": 140,
   "metadata": {
    "ExecuteTime": {
     "end_time": "2024-01-27T16:40:31.653756400Z",
     "start_time": "2024-01-27T16:40:31.513757900Z"
    }
   },
   "outputs": [],
   "source": [
    "X_train_n2v =  np.array([embeddings[str(x)] if x not in isolated else np.zeros((128)) for idx, x in enumerate(train_nodes)  ], dtype=np.float32)\n",
    "\n",
    "X_test_n2v =np.array([embeddings[str(x)] if x not in isolated else np.zeros((128)) for idx, x in enumerate(test_nodes)  ], dtype=np.float32)\n",
    " "
   ]
  },
  {
   "cell_type": "code",
   "execution_count": 141,
   "outputs": [
    {
     "name": "stdout",
     "output_type": "stream",
     "text": [
      "(21531, 128)\n",
      "(21531,)\n"
     ]
    }
   ],
   "source": [
    "\n",
    "print(X_train_n2v.shape)\n",
    "print(Y_processed.shape)"
   ],
   "metadata": {
    "collapsed": false,
    "ExecuteTime": {
     "end_time": "2024-01-27T16:40:31.794756500Z",
     "start_time": "2024-01-27T16:40:31.767755500Z"
    }
   }
  },
  {
   "cell_type": "code",
   "execution_count": 142,
   "metadata": {
    "ExecuteTime": {
     "end_time": "2024-01-27T16:41:11.919190200Z",
     "start_time": "2024-01-27T16:40:32.001756600Z"
    }
   },
   "outputs": [
    {
     "data": {
      "text/plain": "SVC()",
      "text/html": "<style>#sk-container-id-5 {\n  /* Definition of color scheme common for light and dark mode */\n  --sklearn-color-text: black;\n  --sklearn-color-line: gray;\n  /* Definition of color scheme for unfitted estimators */\n  --sklearn-color-unfitted-level-0: #fff5e6;\n  --sklearn-color-unfitted-level-1: #f6e4d2;\n  --sklearn-color-unfitted-level-2: #ffe0b3;\n  --sklearn-color-unfitted-level-3: chocolate;\n  /* Definition of color scheme for fitted estimators */\n  --sklearn-color-fitted-level-0: #f0f8ff;\n  --sklearn-color-fitted-level-1: #d4ebff;\n  --sklearn-color-fitted-level-2: #b3dbfd;\n  --sklearn-color-fitted-level-3: cornflowerblue;\n\n  /* Specific color for light theme */\n  --sklearn-color-text-on-default-background: var(--sg-text-color, var(--theme-code-foreground, var(--jp-content-font-color1, black)));\n  --sklearn-color-background: var(--sg-background-color, var(--theme-background, var(--jp-layout-color0, white)));\n  --sklearn-color-border-box: var(--sg-text-color, var(--theme-code-foreground, var(--jp-content-font-color1, black)));\n  --sklearn-color-icon: #696969;\n\n  @media (prefers-color-scheme: dark) {\n    /* Redefinition of color scheme for dark theme */\n    --sklearn-color-text-on-default-background: var(--sg-text-color, var(--theme-code-foreground, var(--jp-content-font-color1, white)));\n    --sklearn-color-background: var(--sg-background-color, var(--theme-background, var(--jp-layout-color0, #111)));\n    --sklearn-color-border-box: var(--sg-text-color, var(--theme-code-foreground, var(--jp-content-font-color1, white)));\n    --sklearn-color-icon: #878787;\n  }\n}\n\n#sk-container-id-5 {\n  color: var(--sklearn-color-text);\n}\n\n#sk-container-id-5 pre {\n  padding: 0;\n}\n\n#sk-container-id-5 input.sk-hidden--visually {\n  border: 0;\n  clip: rect(1px 1px 1px 1px);\n  clip: rect(1px, 1px, 1px, 1px);\n  height: 1px;\n  margin: -1px;\n  overflow: hidden;\n  padding: 0;\n  position: absolute;\n  width: 1px;\n}\n\n#sk-container-id-5 div.sk-dashed-wrapped {\n  border: 1px dashed var(--sklearn-color-line);\n  margin: 0 0.4em 0.5em 0.4em;\n  box-sizing: border-box;\n  padding-bottom: 0.4em;\n  background-color: var(--sklearn-color-background);\n}\n\n#sk-container-id-5 div.sk-container {\n  /* jupyter's `normalize.less` sets `[hidden] { display: none; }`\n     but bootstrap.min.css set `[hidden] { display: none !important; }`\n     so we also need the `!important` here to be able to override the\n     default hidden behavior on the sphinx rendered scikit-learn.org.\n     See: https://github.com/scikit-learn/scikit-learn/issues/21755 */\n  display: inline-block !important;\n  position: relative;\n}\n\n#sk-container-id-5 div.sk-text-repr-fallback {\n  display: none;\n}\n\ndiv.sk-parallel-item,\ndiv.sk-serial,\ndiv.sk-item {\n  /* draw centered vertical line to link estimators */\n  background-image: linear-gradient(var(--sklearn-color-text-on-default-background), var(--sklearn-color-text-on-default-background));\n  background-size: 2px 100%;\n  background-repeat: no-repeat;\n  background-position: center center;\n}\n\n/* Parallel-specific style estimator block */\n\n#sk-container-id-5 div.sk-parallel-item::after {\n  content: \"\";\n  width: 100%;\n  border-bottom: 2px solid var(--sklearn-color-text-on-default-background);\n  flex-grow: 1;\n}\n\n#sk-container-id-5 div.sk-parallel {\n  display: flex;\n  align-items: stretch;\n  justify-content: center;\n  background-color: var(--sklearn-color-background);\n  position: relative;\n}\n\n#sk-container-id-5 div.sk-parallel-item {\n  display: flex;\n  flex-direction: column;\n}\n\n#sk-container-id-5 div.sk-parallel-item:first-child::after {\n  align-self: flex-end;\n  width: 50%;\n}\n\n#sk-container-id-5 div.sk-parallel-item:last-child::after {\n  align-self: flex-start;\n  width: 50%;\n}\n\n#sk-container-id-5 div.sk-parallel-item:only-child::after {\n  width: 0;\n}\n\n/* Serial-specific style estimator block */\n\n#sk-container-id-5 div.sk-serial {\n  display: flex;\n  flex-direction: column;\n  align-items: center;\n  background-color: var(--sklearn-color-background);\n  padding-right: 1em;\n  padding-left: 1em;\n}\n\n\n/* Toggleable style: style used for estimator/Pipeline/ColumnTransformer box that is\nclickable and can be expanded/collapsed.\n- Pipeline and ColumnTransformer use this feature and define the default style\n- Estimators will overwrite some part of the style using the `sk-estimator` class\n*/\n\n/* Pipeline and ColumnTransformer style (default) */\n\n#sk-container-id-5 div.sk-toggleable {\n  /* Default theme specific background. It is overwritten whether we have a\n  specific estimator or a Pipeline/ColumnTransformer */\n  background-color: var(--sklearn-color-background);\n}\n\n/* Toggleable label */\n#sk-container-id-5 label.sk-toggleable__label {\n  cursor: pointer;\n  display: block;\n  width: 100%;\n  margin-bottom: 0;\n  padding: 0.5em;\n  box-sizing: border-box;\n  text-align: center;\n}\n\n#sk-container-id-5 label.sk-toggleable__label-arrow:before {\n  /* Arrow on the left of the label */\n  content: \"▸\";\n  float: left;\n  margin-right: 0.25em;\n  color: var(--sklearn-color-icon);\n}\n\n#sk-container-id-5 label.sk-toggleable__label-arrow:hover:before {\n  color: var(--sklearn-color-text);\n}\n\n/* Toggleable content - dropdown */\n\n#sk-container-id-5 div.sk-toggleable__content {\n  max-height: 0;\n  max-width: 0;\n  overflow: hidden;\n  text-align: left;\n  /* unfitted */\n  background-color: var(--sklearn-color-unfitted-level-0);\n}\n\n#sk-container-id-5 div.sk-toggleable__content.fitted {\n  /* fitted */\n  background-color: var(--sklearn-color-fitted-level-0);\n}\n\n#sk-container-id-5 div.sk-toggleable__content pre {\n  margin: 0.2em;\n  border-radius: 0.25em;\n  color: var(--sklearn-color-text);\n  /* unfitted */\n  background-color: var(--sklearn-color-unfitted-level-0);\n}\n\n#sk-container-id-5 div.sk-toggleable__content.fitted pre {\n  /* unfitted */\n  background-color: var(--sklearn-color-fitted-level-0);\n}\n\n#sk-container-id-5 input.sk-toggleable__control:checked~div.sk-toggleable__content {\n  /* Expand drop-down */\n  max-height: 200px;\n  max-width: 100%;\n  overflow: auto;\n}\n\n#sk-container-id-5 input.sk-toggleable__control:checked~label.sk-toggleable__label-arrow:before {\n  content: \"▾\";\n}\n\n/* Pipeline/ColumnTransformer-specific style */\n\n#sk-container-id-5 div.sk-label input.sk-toggleable__control:checked~label.sk-toggleable__label {\n  color: var(--sklearn-color-text);\n  background-color: var(--sklearn-color-unfitted-level-2);\n}\n\n#sk-container-id-5 div.sk-label.fitted input.sk-toggleable__control:checked~label.sk-toggleable__label {\n  background-color: var(--sklearn-color-fitted-level-2);\n}\n\n/* Estimator-specific style */\n\n/* Colorize estimator box */\n#sk-container-id-5 div.sk-estimator input.sk-toggleable__control:checked~label.sk-toggleable__label {\n  /* unfitted */\n  background-color: var(--sklearn-color-unfitted-level-2);\n}\n\n#sk-container-id-5 div.sk-estimator.fitted input.sk-toggleable__control:checked~label.sk-toggleable__label {\n  /* fitted */\n  background-color: var(--sklearn-color-fitted-level-2);\n}\n\n#sk-container-id-5 div.sk-label label.sk-toggleable__label,\n#sk-container-id-5 div.sk-label label {\n  /* The background is the default theme color */\n  color: var(--sklearn-color-text-on-default-background);\n}\n\n/* On hover, darken the color of the background */\n#sk-container-id-5 div.sk-label:hover label.sk-toggleable__label {\n  color: var(--sklearn-color-text);\n  background-color: var(--sklearn-color-unfitted-level-2);\n}\n\n/* Label box, darken color on hover, fitted */\n#sk-container-id-5 div.sk-label.fitted:hover label.sk-toggleable__label.fitted {\n  color: var(--sklearn-color-text);\n  background-color: var(--sklearn-color-fitted-level-2);\n}\n\n/* Estimator label */\n\n#sk-container-id-5 div.sk-label label {\n  font-family: monospace;\n  font-weight: bold;\n  display: inline-block;\n  line-height: 1.2em;\n}\n\n#sk-container-id-5 div.sk-label-container {\n  text-align: center;\n}\n\n/* Estimator-specific */\n#sk-container-id-5 div.sk-estimator {\n  font-family: monospace;\n  border: 1px dotted var(--sklearn-color-border-box);\n  border-radius: 0.25em;\n  box-sizing: border-box;\n  margin-bottom: 0.5em;\n  /* unfitted */\n  background-color: var(--sklearn-color-unfitted-level-0);\n}\n\n#sk-container-id-5 div.sk-estimator.fitted {\n  /* fitted */\n  background-color: var(--sklearn-color-fitted-level-0);\n}\n\n/* on hover */\n#sk-container-id-5 div.sk-estimator:hover {\n  /* unfitted */\n  background-color: var(--sklearn-color-unfitted-level-2);\n}\n\n#sk-container-id-5 div.sk-estimator.fitted:hover {\n  /* fitted */\n  background-color: var(--sklearn-color-fitted-level-2);\n}\n\n/* Specification for estimator info (e.g. \"i\" and \"?\") */\n\n/* Common style for \"i\" and \"?\" */\n\n.sk-estimator-doc-link,\na:link.sk-estimator-doc-link,\na:visited.sk-estimator-doc-link {\n  float: right;\n  font-size: smaller;\n  line-height: 1em;\n  font-family: monospace;\n  background-color: var(--sklearn-color-background);\n  border-radius: 1em;\n  height: 1em;\n  width: 1em;\n  text-decoration: none !important;\n  margin-left: 1ex;\n  /* unfitted */\n  border: var(--sklearn-color-unfitted-level-1) 1pt solid;\n  color: var(--sklearn-color-unfitted-level-1);\n}\n\n.sk-estimator-doc-link.fitted,\na:link.sk-estimator-doc-link.fitted,\na:visited.sk-estimator-doc-link.fitted {\n  /* fitted */\n  border: var(--sklearn-color-fitted-level-1) 1pt solid;\n  color: var(--sklearn-color-fitted-level-1);\n}\n\n/* On hover */\ndiv.sk-estimator:hover .sk-estimator-doc-link:hover,\n.sk-estimator-doc-link:hover,\ndiv.sk-label-container:hover .sk-estimator-doc-link:hover,\n.sk-estimator-doc-link:hover {\n  /* unfitted */\n  background-color: var(--sklearn-color-unfitted-level-3);\n  color: var(--sklearn-color-background);\n  text-decoration: none;\n}\n\ndiv.sk-estimator.fitted:hover .sk-estimator-doc-link.fitted:hover,\n.sk-estimator-doc-link.fitted:hover,\ndiv.sk-label-container:hover .sk-estimator-doc-link.fitted:hover,\n.sk-estimator-doc-link.fitted:hover {\n  /* fitted */\n  background-color: var(--sklearn-color-fitted-level-3);\n  color: var(--sklearn-color-background);\n  text-decoration: none;\n}\n\n/* Span, style for the box shown on hovering the info icon */\n.sk-estimator-doc-link span {\n  display: none;\n  z-index: 9999;\n  position: relative;\n  font-weight: normal;\n  right: .2ex;\n  padding: .5ex;\n  margin: .5ex;\n  width: min-content;\n  min-width: 20ex;\n  max-width: 50ex;\n  color: var(--sklearn-color-text);\n  box-shadow: 2pt 2pt 4pt #999;\n  /* unfitted */\n  background: var(--sklearn-color-unfitted-level-0);\n  border: .5pt solid var(--sklearn-color-unfitted-level-3);\n}\n\n.sk-estimator-doc-link.fitted span {\n  /* fitted */\n  background: var(--sklearn-color-fitted-level-0);\n  border: var(--sklearn-color-fitted-level-3);\n}\n\n.sk-estimator-doc-link:hover span {\n  display: block;\n}\n\n/* \"?\"-specific style due to the `<a>` HTML tag */\n\n#sk-container-id-5 a.estimator_doc_link {\n  float: right;\n  font-size: 1rem;\n  line-height: 1em;\n  font-family: monospace;\n  background-color: var(--sklearn-color-background);\n  border-radius: 1rem;\n  height: 1rem;\n  width: 1rem;\n  text-decoration: none;\n  /* unfitted */\n  color: var(--sklearn-color-unfitted-level-1);\n  border: var(--sklearn-color-unfitted-level-1) 1pt solid;\n}\n\n#sk-container-id-5 a.estimator_doc_link.fitted {\n  /* fitted */\n  border: var(--sklearn-color-fitted-level-1) 1pt solid;\n  color: var(--sklearn-color-fitted-level-1);\n}\n\n/* On hover */\n#sk-container-id-5 a.estimator_doc_link:hover {\n  /* unfitted */\n  background-color: var(--sklearn-color-unfitted-level-3);\n  color: var(--sklearn-color-background);\n  text-decoration: none;\n}\n\n#sk-container-id-5 a.estimator_doc_link.fitted:hover {\n  /* fitted */\n  background-color: var(--sklearn-color-fitted-level-3);\n}\n</style><div id=\"sk-container-id-5\" class=\"sk-top-container\"><div class=\"sk-text-repr-fallback\"><pre>SVC()</pre><b>In a Jupyter environment, please rerun this cell to show the HTML representation or trust the notebook. <br />On GitHub, the HTML representation is unable to render, please try loading this page with nbviewer.org.</b></div><div class=\"sk-container\" hidden><div class=\"sk-item\"><div class=\"sk-estimator fitted sk-toggleable\"><input class=\"sk-toggleable__control sk-hidden--visually\" id=\"sk-estimator-id-5\" type=\"checkbox\" checked><label for=\"sk-estimator-id-5\" class=\"sk-toggleable__label fitted sk-toggleable__label-arrow fitted\">&nbsp;&nbsp;SVC<a class=\"sk-estimator-doc-link fitted\" rel=\"noreferrer\" target=\"_blank\" href=\"https://scikit-learn.org/1.4/modules/generated/sklearn.svm.SVC.html\">?<span>Documentation for SVC</span></a><span class=\"sk-estimator-doc-link fitted\">i<span>Fitted</span></span></label><div class=\"sk-toggleable__content fitted\"><pre>SVC()</pre></div> </div></div></div></div>"
     },
     "execution_count": 142,
     "metadata": {},
     "output_type": "execute_result"
    }
   ],
   "source": [
    "from sklearn.multiclass import OneVsRestClassifier\n",
    "from sklearn.svm import LinearSVC,SVC\n",
    "\n",
    "svc = SVC()\n",
    "svc.fit(X_train_n2v,Y_processed)\n"
   ]
  },
  {
   "cell_type": "code",
   "execution_count": 143,
   "metadata": {
    "ExecuteTime": {
     "end_time": "2024-01-27T16:41:20.713482100Z",
     "start_time": "2024-01-27T16:41:11.920212500Z"
    }
   },
   "outputs": [],
   "source": [
    "predictions = svc.predict(X_test_n2v)"
   ]
  },
  {
   "cell_type": "code",
   "execution_count": 144,
   "outputs": [],
   "source": [
    "Y_test_processed = []\n",
    "for index, row in test.sort_values(by=['index']).iterrows():\n",
    "    if row[\"index\"] in nodes:\n",
    "        Y_test_processed.append(row[\"labels\"])\n",
    "Y_test_processed = multilabel_binarizer.transform(Y_test_processed) "
   ],
   "metadata": {
    "collapsed": false,
    "ExecuteTime": {
     "end_time": "2024-01-27T16:41:20.907967800Z",
     "start_time": "2024-01-27T16:41:20.704456200Z"
    }
   }
  },
  {
   "cell_type": "code",
   "execution_count": 145,
   "outputs": [
    {
     "name": "stdout",
     "output_type": "stream",
     "text": [
      "[4, 15, 19, 20, 23, 29, 44, 61, 73, 75, 78, 86, 92, 105, 109, 116, 118, 123, 134, 138]\n",
      "[0 1 0 1 1 1 0 1 0 1 0 1 1 1 1 1 0 0 1 0]\n"
     ]
    }
   ],
   "source": [
    "print(test_nodes[:20])\n",
    "print(Y_test_processed[:20])"
   ],
   "metadata": {
    "collapsed": false,
    "ExecuteTime": {
     "end_time": "2024-01-27T16:41:20.923969100Z",
     "start_time": "2024-01-27T16:41:20.910967200Z"
    }
   }
  },
  {
   "cell_type": "code",
   "execution_count": 146,
   "metadata": {
    "ExecuteTime": {
     "end_time": "2024-01-27T16:41:20.958993700Z",
     "start_time": "2024-01-27T16:41:20.926975Z"
    }
   },
   "outputs": [
    {
     "name": "stdout",
     "output_type": "stream",
     "text": [
      "0.7153522417122208\n"
     ]
    }
   ],
   "source": [
    "from sklearn import metrics\n",
    "print(metrics.f1_score(Y_test_processed, predictions,average=\"macro\"))\n"
   ]
  },
  {
   "cell_type": "code",
   "execution_count": 147,
   "metadata": {
    "ExecuteTime": {
     "end_time": "2024-01-27T16:41:37.090358300Z",
     "start_time": "2024-01-27T16:41:37.048331Z"
    }
   },
   "outputs": [
    {
     "name": "stdout",
     "output_type": "stream",
     "text": [
      "              precision    recall  f1-score   support\n",
      "\n",
      "           0       0.75      0.85      0.80      1794\n",
      "           1       0.84      0.74      0.79      1978\n",
      "           2       0.86      0.41      0.56        29\n",
      "\n",
      "    accuracy                           0.79      3801\n",
      "   macro avg       0.82      0.67      0.72      3801\n",
      "weighted avg       0.80      0.79      0.79      3801\n"
     ]
    }
   ],
   "source": [
    "print(metrics.classification_report(Y_test_processed, predictions))\n"
   ]
  },
  {
   "attachments": {},
   "cell_type": "markdown",
   "metadata": {},
   "source": [
    " Compare performance of word2vec only, node2vec embeddings only (above) and word2vec+node2vec settings.\n",
    "  Report your intuition below in text as to why one works better than other and to what extent network structure helps compare dto only using word2vec embeddings of titles and subtitles (first result).\n",
    "\n",
    " You can also plot the tsne plot of embeddings to gain more intuition"
   ]
  },
  {
   "cell_type": "markdown",
   "metadata": {},
   "source": []
  }
 ],
 "metadata": {
  "kernelspec": {
   "display_name": "Python 3 (ipykernel)",
   "language": "python",
   "name": "python3"
  },
  "language_info": {
   "codemirror_mode": {
    "name": "ipython",
    "version": 3
   },
   "file_extension": ".py",
   "mimetype": "text/x-python",
   "name": "python",
   "nbconvert_exporter": "python",
   "pygments_lexer": "ipython3",
   "version": "3.11.0"
  }
 },
 "nbformat": 4,
 "nbformat_minor": 4
}
